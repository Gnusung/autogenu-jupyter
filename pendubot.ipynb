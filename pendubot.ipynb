{
 "cells": [
  {
   "cell_type": "markdown",
   "metadata": {},
   "source": [
    "# AutoGenU for Jupyter\n",
    "\n",
    "An Automatic C++ Code Generator for Nonlinear Model Predictive Control (NMPC)  \n",
    "\n",
    "---  "
   ]
  },
  {
   "cell_type": "markdown",
   "metadata": {},
   "source": [
    "# Generate C++ codes of NMPC model  "
   ]
  },
  {
   "cell_type": "markdown",
   "metadata": {},
   "source": [
    "## Import modules"
   ]
  },
  {
   "cell_type": "code",
   "execution_count": 21,
   "metadata": {},
   "outputs": [],
   "source": [
    "from sympy import *\n",
    "from AutoGenU import basic_symbolic_func as symfunc\n",
    "from AutoGenU import cpp_generator as gencpp\n",
    "init_printing()"
   ]
  },
  {
   "cell_type": "markdown",
   "metadata": {},
   "source": [
    "## Set dimensions\n",
    "`dimx`: dimension of the state vector $x$   \n",
    "`dimu`: dimension of the control input vector $u$  \n",
    "`dimc`: dimension of the constraints $C(x, u) = 0$  "
   ]
  },
  {
   "cell_type": "code",
   "execution_count": 22,
   "metadata": {},
   "outputs": [],
   "source": [
    "dimx = 4\n",
    "dimu = 1\n",
    "dimc = 0"
   ]
  },
  {
   "cell_type": "markdown",
   "metadata": {},
   "source": [
    "## Generate t, x, u, and lmd, necessary variables for the formulation of the optimal control problem\n",
    "`t`: time parameter $t$  \n",
    "`x`: the state vector $x$  \n",
    "`u`: the control input vector $u$  \n",
    "`lmd`: the Lagrange multiplier vector for the state equation $\\lambda$"
   ]
  },
  {
   "cell_type": "code",
   "execution_count": 23,
   "metadata": {},
   "outputs": [],
   "source": [
    "t = Symbol('t')\n",
    "x = symbols(f'x[0:{dimx}]')\n",
    "u = symbols(f'u[0:{dimu+dimc}]')\n",
    "lmd = symbols(f'lmd[0:{dimx}]')"
   ]
  },
  {
   "cell_type": "markdown",
   "metadata": {},
   "source": [
    "## Define variables used in the state equation, constraints, and cost function\n",
    "Define a scalar variable whose name is \"var\" as  \n",
    "`var = Symbol('var') `\n",
    "\n",
    "Define scalar variables whose names are \"var\\_1\", \"var\\_2\", ..., \"var\\_n\" as  \n",
    "`var_1, var_2, ..., var_n = symbols('var_1, var_2, ..., var_n')`\n",
    "\n",
    "Define a vector whose name is \"vec\" and dimension is dim_vec as  \n",
    "`vec = symbols(f'vec[0:{dim_vec}]')`"
   ]
  },
  {
   "cell_type": "code",
   "execution_count": 4,
   "metadata": {},
   "outputs": [],
   "source": [
    "# Define user variables used in the state function here\n",
    "m1, m2, l1, l2, d1, d2, J1, J2, g = symbols('m1, m2, l1, l2, d1, d2, J1, J2, g')\n",
    "\n",
    "# You can also define functions used  in the state function or in the cost funciton "
   ]
  },
  {
   "cell_type": "markdown",
   "metadata": {},
   "source": [
    "## Define weight parameters used in the stage cost and the terminal cost\n",
    "`q`: weight array for the state in the stage cost  \n",
    "`r`: weight array for the control input in the stage cost  \n",
    "`q_terminal`: weight array for the state in the terminal cost  \n",
    "`x_ref`: the reference value of the state"
   ]
  },
  {
   "cell_type": "code",
   "execution_count": 5,
   "metadata": {},
   "outputs": [],
   "source": [
    "q = symbols(f'q[0:{dimx}]')\n",
    "r = symbols(f'r[0:{dimu+dimc}]')\n",
    "q_terminal = symbols(f'q_terminal[0:{dimx}]')\n",
    "x_ref = symbols(f'x_ref[0:{dimx}]')"
   ]
  },
  {
   "cell_type": "markdown",
   "metadata": {},
   "source": [
    "## Define the state equation, constraints, the stage cost, and the terminal cost\n",
    "`fxu`: state equation $ f(t, x, u)$  \n",
    "`Cxu`: equality constraisnts $C(x, u, t) $  \n",
    "`L`: stage cost $L(x, u, t)$  \n",
    "`phi`: terminal cost $\\phi (x, t)$  \n",
    "Note: array indices start with 0"
   ]
  },
  {
   "cell_type": "code",
   "execution_count": 6,
   "metadata": {},
   "outputs": [],
   "source": [
    "# Define the state equation\n",
    "fxu = [x[2], \n",
    "        x[3],\n",
    "       -(sin(x[0] + x[1]) * d2 * g * m2 + g * (d1 * m1 + l1 * m2) * sin(x[0]) - 0.2e1 * d2 * (x[2] + x[3] / 0.2e1) * l1 * x[3] * m2 * sin(x[1]) - u[0]) / (0.2e1 * d2 * m2 * l1 * cos(x[1]) + d1 * d1 * m1 + d2 * d2 * m2 + l1 * l1 * m2 + J1 + J2), \n",
    "       (g * d2 * l1 * m2 * (d1 * m1 + l1 * m2) * sin(x[0] - x[1]) / 0.2e1 - d2 * d2 * g * l1 * m2 * m2 * sin(x[0] + 0.2e1 * x[1]) / 0.2e1 - (d1 * d1 * m1 - d1 * l1 * m1 / 0.2e1 + l1 * l1 * m2 / 0.2e1 + J1) * m2 * g * d2 * sin(x[0] + x[1]) - l1 * l1 * m2 * m2 * d2 * d2 * (pow(x[2], 0.2e1) + x[2] * x[3] + pow(x[3], 0.2e1) / 0.2e1) * sin(0.2e1 * x[1]) - l1 * m2 * d2 * ((pow(x[2] + x[3], 0.2e1) * d2 * d2 + pow(x[2], 0.2e1) * l1 * l1) * m2 + (d1 * d1 * m1 + J1 + J2) * pow(x[2], 0.2e1) + 0.2e1 * J2 * x[2] * x[3] + J2 * pow(x[3], 0.2e1)) * sin(x[1]) + g * (d2 * d2 * l1 * m2 * m2 / 0.2e1 + (d1 * d2 * d2 * m1 + J2 * l1) * m2 + J2 * d1 * m1) * sin(x[0]) - u[0] * (d2 * m2 * l1 * cos(x[1]) + d2 * d2 * m2 + J2)) / (0.2e1 * d2 * m2 * l1 * cos(x[1]) + d1 * d1 * m1 + d2 * d2 * m2 + l1 * l1 * m2 + J1 + J2) / (d2 * d2 * m2 + J2)]\n",
    "\n",
    "# Define the constraints (if dimc > 0)\n",
    "Cxu = []\n",
    "\n",
    "# Define the stage cost\n",
    "L = sum(q[i]*(x[i] - x_ref[i])**2 for i in range(dimx))/2 + sum(r[i] * u[i]**2 for i in range(dimu))/2 \n",
    "\n",
    "# Define the terminal cost\n",
    "phi = sum(q_terminal[i]*(x[i] - x_ref[i])**2 for i in range(dimx))/2"
   ]
  },
  {
   "cell_type": "markdown",
   "metadata": {},
   "source": [
    "## Generate the optimality conditions\n",
    "`hamiltonian`: $H(x, u, \\lambda, t) = L(x, u) + \\lambda^{\\rm T} f(x, u)$  \n",
    "`hx`: partial derivartive of the hamiltonian $H (x, u, \\lambda)$ with respect to $x$, $\\left(\\frac{\\partial H}{\\partial x} \\right)^{\\rm T} (x, u, \\lambda)$    \n",
    "`hu`: partial derivartive of the hamiltonian $H (x, u, \\lambda)$ with respect to $u$, $\\left(\\frac{\\partial H}{\\partial u} \\right)^{\\rm T}, (x, u, \\lambda)$    \n",
    "`phix`: partial derivative of the terminal cost $\\phi(x)$ with respect to $x$, $\\left(\\frac{\\partial \\phi}{\\partial x} \\right)^{\\rm T} (x)$"
   ]
  },
  {
   "cell_type": "code",
   "execution_count": 7,
   "metadata": {},
   "outputs": [],
   "source": [
    "if(dimc > 0):\n",
    "    hamiltonian = L + symfunc.dotProduct(lmd, fxu) + sum(u[dimu+i] * Cxu[i] for i in range(dimc))\n",
    "else:\n",
    "    hamiltonian = L + symfunc.dotProduct(lmd, fxu) \n",
    "\n",
    "phix = symfunc.diffScalarFunc(phi, x)\n",
    "hx = symfunc.diffScalarFunc(hamiltonian, x)\n",
    "hu = symfunc.diffScalarFunc(hamiltonian, u)"
   ]
  },
  {
   "cell_type": "markdown",
   "metadata": {},
   "source": [
    "## Symplify phix, hx, and hu\n",
    "Note: if `hx` and `hu` is too complicated, it takes too much time to simplify them"
   ]
  },
  {
   "cell_type": "code",
   "execution_count": 8,
   "metadata": {},
   "outputs": [],
   "source": [
    "phix = simplify(phix)\n",
    "hx = simplify(hx)\n",
    "hu = simplify(hu)"
   ]
  },
  {
   "cell_type": "markdown",
   "metadata": {},
   "source": [
    "## Set Parameters\n",
    "set all parameters used in the state equation, constraints, and the cost function"
   ]
  },
  {
   "cell_type": "code",
   "execution_count": 9,
   "metadata": {},
   "outputs": [],
   "source": [
    "# scalar parameters\n",
    "scalar_params = [[m1, 0.2], [m2, 0.7], [l1, 0.3], [l2, 0.3], [d1, 0.15], [d2, 0.257], [J1, 0.006], [J2, 0.051], [g, 9.80665]]\n",
    "\n",
    "# array parameters\n",
    "array_params = [['q', dimx, '{1, 1, 0.1, 0.1}'], \n",
    "                ['r', dimu, '{0.1}'], \n",
    "                ['q_terminal', dimx, '{1, 1, 0.1, 0.1}'], \n",
    "                ['x_ref', dimx, '{M_PI, 0, 0, 0}']]\n"
   ]
  },
  {
   "cell_type": "markdown",
   "metadata": {},
   "source": [
    "## Generate C++ codes of NMPC model\n",
    "generate `nmpc_model.hpp` and `nmpc_model.cpp` in a directory of `model_name`"
   ]
  },
  {
   "cell_type": "code",
   "execution_count": 10,
   "metadata": {},
   "outputs": [],
   "source": [
    "model_name = \"pendubot\"\n",
    "\n",
    "gencpp.makeModelDir(model_name)\n",
    "gencpp.generateCpp(dimx, dimu, dimc, fxu, Cxu, phix, hx, hu, model_name)\n",
    "gencpp.generateHpp(dimx, dimu, dimc, scalar_params, array_params, model_name)"
   ]
  },
  {
   "cell_type": "markdown",
   "metadata": {},
   "source": [
    "---  \n",
    "# Generate C++ codes for numerical simulation  "
   ]
  },
  {
   "cell_type": "markdown",
   "metadata": {},
   "source": [
    "## Import modules"
   ]
  },
  {
   "cell_type": "code",
   "execution_count": 11,
   "metadata": {},
   "outputs": [],
   "source": [
    "from AutoGenU import solver_params as solverparams\n",
    "from AutoGenU import simulation_params as simparams\n",
    "from AutoGenU import cpp_executor as cppexec\n",
    "from AutoGenU import simulation_plottor as simplot\n",
    "from AutoGenU import animation_generator as animgen"
   ]
  },
  {
   "cell_type": "markdown",
   "metadata": {},
   "source": [
    "## Set solvers  \n",
    "set which solvers you use  in `solver_index`\n",
    "  \n",
    "1. The continuation/GMRES method (the original C/GMRES method, single shooting)\n",
    "2. The multiple shooting based C/GMRES method\n",
    "3. The multiple shooting based C/GMRES method with condensing of variables with respect to the constraints on the saturation function on the control input"
   ]
  },
  {
   "cell_type": "code",
   "execution_count": 12,
   "metadata": {},
   "outputs": [],
   "source": [
    "solver_index = 3"
   ]
  },
  {
   "cell_type": "markdown",
   "metadata": {},
   "source": [
    "## Set saturaions on the control input if you choose `solver_index = 3`\n",
    "- saturation on the control input: $u_{i, {\\rm min}} \\leq u_i \\leq u_{i, {\\rm max}}$  \n",
    "$u_i \\in \\mathbb{R}$ : a constrained component of the control input $u$  \n",
    "- transformed equality constraint: $(u_i - \\frac{u_{i, {\\rm max}} + u_{i, {\\rm min}}}{2})^2 - ( \\frac{u_{i, {\\rm max}} - u_{i, {\\rm min}}}{2})^2 + {u_d}_i ^2 = 0$  \n",
    "${u_d}_i \\in \\mathbb{R}$ : a dummy input for the transformation of the saturation into the equality constraint  \n",
    "- additional term in the stage cost $L(x, u)$ with respect to the saturation of $u_i$: $- {r_d}_i {u_d}_i + \\frac{1}{2} {r_q}_i {u_d}_i ^2$  \n",
    "   ${r_d}_i > 0$: a weight parameter to avoid failure of numerical computation, ${r_q}_i \\geq 0$: a weight parameter to increase mergin of the saturation  \n",
    "\n",
    "`index`: $i$  \n",
    "`u_min`: $u_{i, {\\rm min}}$  \n",
    "`u_max`: $u_{i, {\\rm max}}$   \n",
    "`dummy_weight`: ${r_d}_i > 0$  \n",
    "`quadratic_weight` :  ${r_q}_i \\geq 0$  \n",
    "`saturation_param` = [`index`, `u_min`, `u_max`, `dummy_weight`, `quadratic_weight`]"
   ]
  },
  {
   "cell_type": "code",
   "execution_count": 13,
   "metadata": {},
   "outputs": [],
   "source": [
    "saturation_list = [[0, -5, 5, 1.0e-01, 0]]\n",
    "# saturation_list = [[index , u_min, u_max, dummy_weight, quadratic_weight], \n",
    "#                    [index , u_min, u_max, dummy_weight, quadratic_weight], \n",
    "#                    .., \n",
    "#                    [index , u_min, u_max, dummy_weight, quadratic_weight]"
   ]
  },
  {
   "cell_type": "markdown",
   "metadata": {},
   "source": [
    "## Set parameters for the NMPC solver\n",
    "\n",
    "\n",
    "`T_f`, `alpha`: parameters for the length of the horizon $T(t)$: $T(t) = T_f (1 - e^{-\\alpha t})$  \n",
    "`horizon_division_num`: the division number of the horzion for numerical computation  \n",
    "`difference_incremenet`: difference increment for the forward difference approximation  \n",
    "`zeta`: a stabilization parameter for the continuation transformation   \n",
    "`max_dim_krylov`: the maximam number of the iteration of the GMRES  "
   ]
  },
  {
   "cell_type": "code",
   "execution_count": 14,
   "metadata": {
    "code_folding": []
   },
   "outputs": [],
   "source": [
    "T_f = 1.0\n",
    "alpha = 1.0\n",
    "horizon_division_num = 50\n",
    "difference_increment = 1.0e-08\n",
    "zeta = 1000\n",
    "max_dim_krylov = 3\n",
    "\n",
    "solver_params = solverparams.SolverParams(T_f, alpha, horizon_division_num, difference_increment, zeta, max_dim_krylov)"
   ]
  },
  {
   "cell_type": "markdown",
   "metadata": {},
   "source": [
    "## Set parameters for the initialization of the solution  \n",
    "`initial_guess_solution`: the initial guess of the solution  \n",
    "`convergence_radius`: the convergence radius of Newton's method for the initialization of the solution  \n",
    "`maximum_itr_newton`: maximum number of iterations in Newton's method for the initizalization of the solution  \n",
    "`initial_guess_lagrange_multiplier`: the initial guess of the lagrange multiplier for the condensed constraints with respect to the saturation on the function of the control input"
   ]
  },
  {
   "cell_type": "code",
   "execution_count": 15,
   "metadata": {},
   "outputs": [],
   "source": [
    "initial_guess_solution = [0.0]\n",
    "convergence_radius = 1.0e-06\n",
    "maximum_itr_newton = 50\n",
    "initial_guess_lagrange_multiplier = [0.01]\n",
    "\n",
    "if solver_index == 1 or solver_index == 2:\n",
    "    initialization_params = solverparams.InitializationParams(initial_guess_solution, convergence_radius, maximum_itr_newton)\n",
    "else:\n",
    "    initialization_params = solverparams.InitializationParams(initial_guess_solution, convergence_radius, maximum_itr_newton, initial_guess_lagrange_multiplier)"
   ]
  },
  {
   "cell_type": "markdown",
   "metadata": {},
   "source": [
    "## Set parameters for numerical simulation\n",
    "`initial_time`: initial time of the numerical simulation  \n",
    "`initial_state`: initial state vector of the system  \n",
    "`simulation_time`: simulation time of the numerical simulation  \n",
    "`sampling_time`: the sampling time of the numerical simulation"
   ]
  },
  {
   "cell_type": "code",
   "execution_count": 16,
   "metadata": {},
   "outputs": [],
   "source": [
    "initial_time = 0  \n",
    "initial_state = [0, 0, 0, 0]  \n",
    "simulation_time = 10\n",
    "sampling_time = 0.001  \n",
    "\n",
    "simulation_params = simparams.SimulationParams(initial_time, initial_state, simulation_time, sampling_time)"
   ]
  },
  {
   "cell_type": "markdown",
   "metadata": {},
   "source": [
    "## Generate main.cpp and CMakeLists.txt"
   ]
  },
  {
   "cell_type": "code",
   "execution_count": 17,
   "metadata": {
    "scrolled": true
   },
   "outputs": [],
   "source": [
    "if solver_index == 1 or solver_index == 2:\n",
    "    gencpp.generateMain(solver_index, solver_params, initialization_params, simulation_params, model_name)\n",
    "else:\n",
    "    gencpp.generateMain(solver_index, solver_params, initialization_params, simulation_params, model_name, saturation_list)    \n",
    "\n",
    "gencpp.generateCMake(solver_index, model_name)\n",
    "gencpp.generateCMakeForModel(model_name)"
   ]
  },
  {
   "cell_type": "markdown",
   "metadata": {},
   "source": [
    "## Build and run simulation\n",
    "NOTE: if you use Windows OS and an error occurs in `cppexec.setCMake(model_name)`, you may solve that error by running codes which are commented out instead of the original codes"
   ]
  },
  {
   "cell_type": "code",
   "execution_count": 18,
   "metadata": {},
   "outputs": [
    {
     "name": "stdout",
     "output_type": "stream",
     "text": [
      "-- Configuring done\n",
      "-- Generating done\n",
      "-- Build files have been written to: /Users/sotaro/src/CGMRES/models/pendubot/build\n",
      "\n",
      "\n",
      "Scanning dependencies of target multiple_shooting_cgmres_with_saturation_simulator\n",
      "[  6%] Building CXX object CMakeFiles/multiple_shooting_cgmres_with_saturation_simulator.dir/src/simulator/numerical_integrator.cpp.o\n",
      "[ 13%] Building CXX object CMakeFiles/multiple_shooting_cgmres_with_saturation_simulator.dir/src/simulator/multiple_shooting_cgmres_with_saturation_simulator.cpp.o\n",
      "[ 20%] Linking CXX static library libmultiple_shooting_cgmres_with_saturation_simulator.a\n",
      "[ 26%] Built target multiple_shooting_cgmres_with_saturation_simulator\n",
      "Scanning dependencies of target nmpcmodel\n",
      "[ 33%] Building CXX object models/pendubot/CMakeFiles/nmpcmodel.dir/nmpc_model.cpp.o\n",
      "[ 40%] Linking CXX static library libnmpcmodel.a\n",
      "[ 40%] Built target nmpcmodel\n",
      "Scanning dependencies of target multiple_shooting_cgmres_with_saturation\n",
      "[ 46%] Building CXX object CMakeFiles/multiple_shooting_cgmres_with_saturation.dir/src/solver/multiple_shooting_cgmres_with_saturation.cpp.o\n",
      "[ 53%] Building CXX object CMakeFiles/multiple_shooting_cgmres_with_saturation.dir/src/solver/init_cgmres_with_saturation.cpp.o\n",
      "[ 60%] Building CXX object CMakeFiles/multiple_shooting_cgmres_with_saturation.dir/src/solver/matrixfree_gmres.cpp.o\n",
      "[ 66%] Linking CXX static library libmultiple_shooting_cgmres_with_saturation.a\n",
      "[ 86%] Built target multiple_shooting_cgmres_with_saturation\n",
      "Scanning dependencies of target a.out\n",
      "[ 93%] Building CXX object CMakeFiles/a.out.dir/models/pendubot/main.cpp.o\n",
      "[100%] Linking CXX executable a.out\n",
      "[100%] Built target a.out\n",
      "\n",
      "\n",
      "Start simulation\n",
      "End simulation\n",
      "Total CPU time for control update: 5.15542 [sec]\n",
      "sampling time: 0.001 [sec]\n",
      "CPU time for per control update: 0.000515542 [sec]\n"
     ]
    }
   ],
   "source": [
    "cppexec.setCMake(model_name)\n",
    "cppexec.makeAndRun(model_name)\n",
    "# cppexec.removeBuildDir(model_name)\n",
    "# cppexec.setCMake(model_name, MSYS=True)\n",
    "# cppexec.makeAndRun(model_name)"
   ]
  },
  {
   "cell_type": "markdown",
   "metadata": {},
   "source": [
    "## Plot the simulation results"
   ]
  },
  {
   "cell_type": "code",
   "execution_count": 19,
   "metadata": {},
   "outputs": [
    {
     "name": "stdout",
     "output_type": "stream",
     "text": [
      "The graph of the simlation results is generated at models/pendubot/simulation_result/pendubot.pdf\n",
      "\n"
     ]
    },
    {
     "data": {
      "image/png": "[encoded data removed]",
      "text/plain": [
       "<Figure size 720x432 with 6 Axes>"
      ]
     },
     "metadata": {},
     "output_type": "display_data"
    }
   ],
   "source": [
    "plot = simplot.SimulationPlottor(model_name)\n",
    "plot.setScales(2,5,2)\n",
    "# plot.showPlots()\n",
    "plot.savePlots()"
   ]
  },
  {
   "cell_type": "markdown",
   "metadata": {},
   "source": [
    "## Draw an animation of the simulation results"
   ]
  },
  {
   "cell_type": "code",
   "execution_count": 20,
   "metadata": {},
   "outputs": [
    {
     "name": "stdout",
     "output_type": "stream",
     "text": [
      "The animation of the simlation results is generated at models/pendubot/simulation_result/pendubot.mp4\n",
      "\n"
     ]
    },
    {
     "data": {
      "image/png": "[encoded data removed]",
      "text/plain": [
       "<Figure size 576x432 with 1 Axes>"
      ]
     },
     "metadata": {},
     "output_type": "display_data"
    }
   ],
   "source": [
    "anim = animgen.TwoLinkArm(model_name)\n",
    "anim.setSkipFrames(10)\n",
    "anim.generateAnimation()"
   ]
  }
 ],
 "metadata": {
  "kernelspec": {
   "display_name": "Python 3",
   "language": "python",
   "name": "python3"
  },
  "language_info": {
   "codemirror_mode": {
    "name": "ipython",
    "version": 3
   },
   "file_extension": ".py",
   "mimetype": "text/x-python",
   "name": "python",
   "nbconvert_exporter": "python",
   "pygments_lexer": "ipython3",
   "version": "3.7.3"
  },
  "toc": {
   "base_numbering": 1,
   "nav_menu": {},
   "number_sections": true,
   "sideBar": true,
   "skip_h1_title": false,
   "title_cell": "Table of Contents",
   "title_sidebar": "Contents",
   "toc_cell": false,
   "toc_position": {},
   "toc_section_display": true,
   "toc_window_display": false
  }
 },
 "nbformat": 4,
 "nbformat_minor": 2
}
