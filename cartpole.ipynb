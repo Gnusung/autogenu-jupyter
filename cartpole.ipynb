{
 "cells": [
  {
   "cell_type": "markdown",
   "metadata": {},
   "source": [
    "# AutoGenU for Jupyter\n",
    "\n",
    "An Automatic C++ Code Generator for Nonlinear Model Predictive Control (NMPC)  \n",
    "\n",
    "---  "
   ]
  },
  {
   "cell_type": "markdown",
   "metadata": {},
   "source": [
    "## Formulation of the optimal control problem: Cart pole"
   ]
  },
  {
   "cell_type": "markdown",
   "metadata": {},
   "source": [
    "### Model description\n",
    "<img src=\"https://raw.github.com/wiki/mayataka/CGMRES/images/fig_cartpole.png\" width=40%>\n",
    "\n",
    "The above figure shows the model of a cart pole. By the Lagrange's method, the equation of the motion is derived as  \n",
    "$$\\ddot{y} = \\frac{1}{m_c + m_p \\sin ^2{\\theta}} \\left\\{ u + m_p \\sin{\\theta} (l \\dot{\\theta}^2 + g \\cos{\\theta}) \\right\\}, $$  \n",
    "$$\\ddot{\\theta} = \\frac{1}{l(m_c + m_p \\sin ^2{\\theta})} \\left\\{ - u \\cos{\\theta} - m_p l {\\dot{\\theta}}^2 \\cos{\\theta} \\sin{\\theta} - (m_c + m_p) g \\sin{\\theta} \\right\\} .$$\n",
    "We also assume that the input of the cartpole is limited as  \n",
    "$$u_{\\rm min} \\leq u \\leq u_{\\rm max} , $$\n",
    "where $u_{\\rm min}, u_{\\rm max} \\in \\mathbb{R}$.\n",
    "\n",
    "### Formulate the optimal control problem\n",
    "We define the state vector as\n",
    "$$ x = \\begin{bmatrix} y \\\\ \\theta \\\\ \\dot{y} \\\\ \\dot{\\theta} \\end{bmatrix} .$$\n",
    "The state equation is then given as \n",
    "$$\\dot{x} = f(t, x, u) = \\begin{bmatrix} \\dot{y} \\\\ \\dot{\\theta} \\\\ \\frac{1}{m_c + m_p \\sin ^2{\\theta}} \\left\\{ u + m_p \\sin{\\theta} (l \\dot{\\theta}^2 + g \\cos{\\theta}) \\right\\} \\\\ \\frac{1}{l(m_c + m_p \\sin ^2{\\theta})} \\left\\{ - u \\cos{\\theta} - m_p l {\\dot{\\theta}}^2 \\cos{\\theta} \\sin{\\theta} - (m_c + m_p) g \\sin{\\theta} \\right\\} \\end{bmatrix} .$$\n",
    "To apply NMPC based on the C/GMRES method, we transform the inequality constraints into equality constraints. This is done by introducing a virtual control input $u_{\\rm dummy} \\in \\mathbb{R}$ to this optimal control problem and imosing the equality constraint\n",
    "$$C(t, x, u) = u^2 + u_{\\rm dummy}^2 - (\\frac{u_{\\rm max} - u_{\\rm min}}{2})^2 = 0, $$\n",
    "where $u_{\\rm dummy} \\in \\mathbb{R}$.  \n",
    "Next, we set the cost function \n",
    "$$ J = \\varphi(t, x) + \\int_{t}^{t+T} L(t, x, u) .$$\n",
    "The objective is to invert the pole and stabilize the cart around $y=0$. In other words, we want to converge the state of the cart pole to \n",
    "$$x_{\\rm ref} := \\begin{bmatrix} 0 \\\\ \\pi \\\\ 0 \\\\ 0 \\end{bmatrix}.$$  \n",
    "To achieve this goal, we set the terminal cost as\n",
    "$$\\varphi(t,x) = \\frac{1}{2} (x - x_{\\rm ref})^{\\rm T} Q_{\\rm terminal} (x - x_{\\rm ref}) ,$$  \n",
    "where $Q_{\\rm terminal} = {\\rm diag}\\left\\{ {q_{\\rm terminal}}_1, {q_{\\rm terminal}}_2, {q_{\\rm terminal}}_3, {q_{\\rm terminal}}_4 \\right\\}$ and ${q_{\\rm terminal}}_1, {q_{\\rm terminal}}_2, {q_{\\rm terminal}}_3, {q_{\\rm terminal}}_4$ are positive real constants. We also set the stage cost as  \n",
    "$$L(t, x, u) = \\frac{1}{2} (x - x_{\\rm ref})^{\\rm T} Q (x - x_{\\rm ref}) + \\frac{1}{2} r u^2 - r_{\\rm dummy} u_{\\rm dummy},$$  \n",
    "where $Q = {\\rm diag} \\left\\{ q_1, q_2, q_3, q_4 \\right\\}$ with positive real constants $q_1, q_2, q_3, q_4$, $r$ is positive real constant, and $r_{\\rm dummy}$ is so, too. Note that the term $- r_{\\rm dummy} u_{\\rm dummy}$ is to determine the sign of $u_{\\rm dummy}$ uniquely.\n",
    "\n",
    "### Numerical solver of NMPC\n",
    "In the following example, we compute the solution of NMPC using the original C/GMRES method (single shooting)."
   ]
  },
  {
   "cell_type": "markdown",
   "metadata": {},
   "source": [
    "---\n",
    "\n",
    "# Generate C++ codes of NMPC model  "
   ]
  },
  {
   "cell_type": "markdown",
   "metadata": {},
   "source": [
    "## Import modules"
   ]
  },
  {
   "cell_type": "code",
   "execution_count": null,
   "metadata": {},
   "outputs": [],
   "source": [
    "from sympy import *\n",
    "from autogenu import symbolic_funcs as symfunc\n",
    "from autogenu import cpp_generator as gencpp"
   ]
  },
  {
   "cell_type": "markdown",
   "metadata": {},
   "source": [
    "## Set dimensions\n",
    "`dimx`: dimension of the state vector $x$   \n",
    "`dimu`: dimension of the control input vector $u$  \n",
    "`dimc`: dimension of the constraints $C(x, u) = 0$  "
   ]
  },
  {
   "cell_type": "code",
   "execution_count": null,
   "metadata": {},
   "outputs": [],
   "source": [
    "dimx = 4\n",
    "dimu = 2\n",
    "dimc = 1"
   ]
  },
  {
   "cell_type": "markdown",
   "metadata": {},
   "source": [
    "## Generate t, x, u, and lmd, necessary variables for the formulation of the optimal control problem\n",
    "`t`: time parameter $t$  \n",
    "`x`: the state vector $x$  \n",
    "`u`: the control input vector $u$  \n",
    "`lmd`: the Lagrange multiplier vector for the state equation $\\lambda$"
   ]
  },
  {
   "cell_type": "code",
   "execution_count": null,
   "metadata": {},
   "outputs": [],
   "source": [
    "t = Symbol('t')  \n",
    "x = symbols('x[0:%d]' %(dimx))  \n",
    "u = symbols('u[0:%d]' %(dimu+dimc))\n",
    "lmd = symbols('lmd[0:%d]' %(dimx))"
   ]
  },
  {
   "cell_type": "markdown",
   "metadata": {},
   "source": [
    "## Define variables used in the state equation, constraints, and cost function\n",
    "Define a scalar variable whose name is \"var\" as  \n",
    "`var = Symbol('var') `\n",
    "\n",
    "Define scalar variables whose names are \"var\\_1\", \"var\\_2\", ..., \"var\\_n\" as  \n",
    "`var_1, var_2, ..., var_n = symbols('var_1, var_2, ..., var_n')`\n",
    "\n",
    "Define a vector whose name is \"vec\" and dimension is dim_vec as  \n",
    "`vec = symbols(f'vec[0:{dim_vec}]')`"
   ]
  },
  {
   "cell_type": "code",
   "execution_count": null,
   "metadata": {},
   "outputs": [],
   "source": [
    "# Define user variables used in the state function here\n",
    "m_c, m_p, l, g = symbols('m_c, m_p, l, g')\n",
    "\n",
    "# variables for constraints on the control input\n",
    "u_min, u_max, dummy_weight = symbols('u_min, u_max, dummy_weight')"
   ]
  },
  {
   "cell_type": "markdown",
   "metadata": {},
   "source": [
    "## Define weight parameters used in the stage cost and the terminal cost\n",
    "`q`: weight array for the state in the stage cost  \n",
    "`r`: weight array for the control input in the stage cost  \n",
    "`q_terminal`: weight array for the state in the terminal cost  \n",
    "`x_ref`: the reference value of the state"
   ]
  },
  {
   "cell_type": "code",
   "execution_count": null,
   "metadata": {},
   "outputs": [],
   "source": [
    "q = symbols('q[0:%d]' %(dimx))\n",
    "r = symbols('r[0:%d]' %(dimu+dimc))\n",
    "q_terminal = symbols('q_terminal[0:%d]' %(dimx))\n",
    "x_ref = symbols('x_ref[0:%d]' %(dimx))"
   ]
  },
  {
   "cell_type": "markdown",
   "metadata": {},
   "source": [
    "## Define the state equation, constraints, the stage cost, and the terminal cost\n",
    "`fxu`: state equation $ f(t, x, u)$  \n",
    "`Cxu`: equality constraisnts $C(t, x, u) $  \n",
    "`L`: stage cost $L(t, x, u)$  \n",
    "`phi`: terminal cost $\\phi (t, x)$  \n",
    "Note: array indices start with 0"
   ]
  },
  {
   "cell_type": "code",
   "execution_count": null,
   "metadata": {},
   "outputs": [],
   "source": [
    "# Define the state equation\n",
    "fxu = [x[2], \n",
    "       x[3],\n",
    "      (u[0] + m_p*sin(x[1])*(l*x[1]*x[1] + g*cos(x[1])) )/( m_c+m_p*sin(x[1])*sin(x[1])),\n",
    "      (-u[0] * cos(x[1]) - m_p*l*x[1]*x[1]*cos(x[1])*sin(x[1]) - (m_c+m_p)*g*sin(x[1]) )/( l*(m_c + m_p*sin(x[1])*sin(x[1])))]\n",
    "\n",
    "# Define the constraints (if dimc > 0)\n",
    "Cxu = [u[0]**2 + u[1]**2 - ((u_max-u_min)**2)/4]\n",
    "\n",
    "# Define the stage cost\n",
    "L = sum(q[i]*(x[i] - x_ref[i])**2 for i in range(dimx))/2 + (r[0] * u[0]**2)/2 - dummy_weight*u[1] \n",
    "\n",
    "# Define the terminal cost\n",
    "phi = sum(q_terminal[i]*(x[i] - x_ref[i])**2 for i in range(dimx))/2 "
   ]
  },
  {
   "cell_type": "markdown",
   "metadata": {},
   "source": [
    "## Generate the optimality conditions\n",
    "`hamiltonian`: $H(t, x, u, \\lambda) := L(t, x, u) + \\lambda^{\\rm T} f(t, x, u)$  \n",
    "`hx`: partial derivartive of the hamiltonian $H (t, x, u, \\lambda)$ with respect to $x$, i.e., $\\left(\\frac{\\partial H}{\\partial x} \\right)^{\\rm T} (t, x, u, \\lambda)$    \n",
    "`hu`: partial derivartive of the hamiltonian $H (t, x, u, \\lambda)$ with respect to $u$, i.e., $\\left(\\frac{\\partial H}{\\partial u} \\right)^{\\rm T}, (t, x, u, \\lambda)$    \n",
    "`phix`: partial derivative of the terminal cost $\\phi(x)$ with respect to $x$, i.e., $\\left(\\frac{\\partial \\phi}{\\partial x} \\right)^{\\rm T} (t, x)$"
   ]
  },
  {
   "cell_type": "code",
   "execution_count": null,
   "metadata": {},
   "outputs": [],
   "source": [
    "if(dimc > 0):\n",
    "    hamiltonian = L + symfunc.dot_product(lmd, fxu) + sum(u[dimu+i] * Cxu[i] for i in range(dimc))\n",
    "else:\n",
    "    hamiltonian = L + symfunc.dot_product(lmd, fxu) \n",
    "\n",
    "phix = symfunc.diff_scalar_func(phi, x)\n",
    "hx = symfunc.diff_scalar_func(hamiltonian, x)\n",
    "hu = symfunc.diff_scalar_func(hamiltonian, u)"
   ]
  },
  {
   "cell_type": "markdown",
   "metadata": {},
   "source": [
    "## Symplify phix, hx, and hu\n",
    "Note: if `hx` and `hu` is too complicated, it takes too much time to simplify them"
   ]
  },
  {
   "cell_type": "code",
   "execution_count": null,
   "metadata": {},
   "outputs": [],
   "source": [
    "phix = simplify(phix)\n",
    "hx = simplify(hx)\n",
    "hu = simplify(hu)"
   ]
  },
  {
   "cell_type": "markdown",
   "metadata": {},
   "source": [
    "## Set Parameters\n",
    "set all parameters used in the state equation, constraints, and the cost function"
   ]
  },
  {
   "cell_type": "code",
   "execution_count": null,
   "metadata": {},
   "outputs": [],
   "source": [
    "# scalar parameters\n",
    "scalar_params = [[m_c, 2], [m_p, 0.2], [l, 0.5], [g, 9.80665], \n",
    "                 [u_min, -15], [u_max, 15], [dummy_weight, 0.1]]\n",
    "\n",
    "# array parameters\n",
    "array_params = [['q', dimx, '{0.1, 10, 0.01, 0.01}'], \n",
    "                ['r', dimu, '{1, 0.01}'], \n",
    "                ['q_terminal', dimx, '{0.1, 10, 0.01, 0.01}'], \n",
    "                ['x_ref', dimx, '{0, M_PI, 0, 0}']]\n"
   ]
  },
  {
   "cell_type": "markdown",
   "metadata": {},
   "source": [
    "## Generate C++ codes of NMPC model\n",
    "generate `nmpc_model.hpp` and `nmpc_model.cpp` in a directory of `model_name`"
   ]
  },
  {
   "cell_type": "code",
   "execution_count": null,
   "metadata": {},
   "outputs": [],
   "source": [
    "model_name = \"cartpole\"\n",
    "\n",
    "gencpp.make_model_dir(model_name)\n",
    "gencpp.generate_cpp(dimx, dimu, dimc, fxu, Cxu, phix, hx, hu, model_name)\n",
    "gencpp.generate_hpp(dimx, dimu, dimc, scalar_params, array_params, model_name)"
   ]
  },
  {
   "cell_type": "markdown",
   "metadata": {},
   "source": [
    "---  \n",
    "# Generate C++ codes for numerical simulation  "
   ]
  },
  {
   "cell_type": "markdown",
   "metadata": {},
   "source": [
    "## Import modules"
   ]
  },
  {
   "cell_type": "code",
   "execution_count": null,
   "metadata": {},
   "outputs": [],
   "source": [
    "from autogenu import solver_params as slvprm\n",
    "from autogenu import initialization_params as iniprm\n",
    "from autogenu import simulation_params as simprm\n",
    "from autogenu import cpp_executor as cppexe\n",
    "from autogenu import simulation_plottor as simplt\n",
    "from autogenu import animation_generator as animgen\n",
    "init_printing()"
   ]
  },
  {
   "cell_type": "markdown",
   "metadata": {},
   "source": [
    "## Set solvers  \n",
    "set which solvers you use  in `solver_index`\n",
    "  \n",
    "1. The continuation/GMRES method (the original C/GMRES method, single shooting)\n",
    "2. The multiple shooting based C/GMRES method\n",
    "3. The multiple shooting based C/GMRES method with condensing of variables with respect to the constraints on the saturation function on the control input"
   ]
  },
  {
   "cell_type": "code",
   "execution_count": null,
   "metadata": {},
   "outputs": [],
   "source": [
    "solver_index = 1"
   ]
  },
  {
   "cell_type": "markdown",
   "metadata": {},
   "source": [
    "## Set saturaions on the control input if you choose `solver_index = 3`\n",
    "- saturation on the control input: $u_{i, {\\rm min}} \\leq u_i \\leq u_{i, {\\rm max}}$  \n",
    "$u_i \\in \\mathbb{R}$ : a constrained component of the control input $u$  \n",
    "- transformed equality constraint: $(u_i - \\frac{u_{i, {\\rm max}} + u_{i, {\\rm min}}}{2})^2 - ( \\frac{u_{i, {\\rm max}} - u_{i, {\\rm min}}}{2})^2 + {u_d}_i ^2 = 0$  \n",
    "${u_d}_i \\in \\mathbb{R}$ : a dummy input for the transformation of the saturation into the equality constraint  \n",
    "- additional term in the stage cost $L(x, u)$ with respect to the saturation of $u_i$: $- {r_d}_i {u_d}_i + \\frac{1}{2} {r_q}_i {u_d}_i ^2$  \n",
    "   ${r_d}_i > 0$: a weight parameter to avoid failure of numerical computation, ${r_q}_i \\geq 0$: a weight parameter to increase mergin of the saturation  \n",
    "\n",
    "`index`: $i$  \n",
    "`u_min`: $u_{i, {\\rm min}}$  \n",
    "`u_max`: $u_{i, {\\rm max}}$   \n",
    "`dummy_weight`: ${r_d}_i > 0$  \n",
    "`quadratic_weight` :  ${r_q}_i \\geq 0$  \n",
    "`saturation_param` = [`index`, `u_min`, `u_max`, `dummy_weight`, `quadratic_weight`]"
   ]
  },
  {
   "cell_type": "code",
   "execution_count": null,
   "metadata": {},
   "outputs": [],
   "source": [
    "saturation_list = []\n",
    "# saturation_list = [[index , u_min, u_max, dummy_weight, quadratic_weight], \n",
    "#                    [index , u_min, u_max, dummy_weight, quadratic_weight], \n",
    "#                    .., \n",
    "#                    [index , u_min, u_max, dummy_weight, quadratic_weight]"
   ]
  },
  {
   "cell_type": "markdown",
   "metadata": {},
   "source": [
    "## Set parameters for the solver\n",
    "\n",
    "`T_f`, `alpha`: parameters for the length of the horizon $T(t)$: $T(t) = T_f (1 - e^{-\\alpha t})$  \n",
    "`horizon_divs`: the division number of the horzion for the numerical computation  \n",
    "`finite_diff_step`: a step length of a finite difference approximations of hessian-vector products in C/GMRES  \n",
    "`zeta`: a stabilization parameter for the continuation transformation   \n",
    "`kmax`: the maximam number of the iteration of the GMRES  "
   ]
  },
  {
   "cell_type": "code",
   "execution_count": null,
   "metadata": {
    "code_folding": []
   },
   "outputs": [],
   "source": [
    "T_f = 2.0\n",
    "alpha = 1.0\n",
    "horizon_divs = 100\n",
    "finite_diff_step = 1.0e-08\n",
    "zeta = 1000\n",
    "kmax = 10\n",
    "\n",
    "solver_params = slvprm.SolverParams(T_f, alpha, horizon_divs, finite_diff_step, zeta, kmax)"
   ]
  },
  {
   "cell_type": "markdown",
   "metadata": {},
   "source": [
    "## Set parameters for the initialization of the solution  \n",
    "`initial_guess`: The initial guess of the solution of the optimal control problem for initialization of the solution of NMPC.   \n",
    "`tol_res`: The torelance residual of the solution of the optimal control problem for the initialization of the solution of NMPC. The Newton iteration terminates when the optimality error is less than `tol_res`.  \n",
    "`max_itr`: The maxmum number of Newton iteration for the initialization of the solution of NMPC.  \n",
    "`Lag_multiplier`: A optional parameter for `MultipleShootingCGMRESWithSaturation`. This is a part of the initial guess of the solution, the initial guess of the Lagrange multiplier with respect the constraints on the saturation function of the control input."
   ]
  },
  {
   "cell_type": "code",
   "execution_count": null,
   "metadata": {},
   "outputs": [],
   "source": [
    "initial_guess = [0.01, 0.01, 0.01]\n",
    "tol_res = 1.0e-06\n",
    "max_itr = 50\n",
    "\n",
    "if solver_index == 1 or solver_index == 2:\n",
    "    initialization_params = iniprm.InitializationParams(initial_guess, tol_res, max_itr)\n",
    "else:\n",
    "    initialization_params = iniprm.InitializationParams(initial_guess, tol_res, max_itr, Lag_multiplier)"
   ]
  },
  {
   "cell_type": "markdown",
   "metadata": {},
   "source": [
    "## Set parameters for numerical simulation\n",
    "`initial_time`: initial time of the numerical simulation  \n",
    "`initial_state`: initial state vector of the system  \n",
    "`simulation_time`: simulation time of the numerical simulation  \n",
    "`sampling_time`: the sampling time of the numerical simulation"
   ]
  },
  {
   "cell_type": "code",
   "execution_count": null,
   "metadata": {},
   "outputs": [],
   "source": [
    "initial_time = 0  \n",
    "initial_state = [0, 0, 0, 0]  \n",
    "simulation_time = 10\n",
    "sampling_time = 0.001  \n",
    "\n",
    "simulation_params = simprm.SimulationParams(initial_time, initial_state, simulation_time, sampling_time)"
   ]
  },
  {
   "cell_type": "markdown",
   "metadata": {},
   "source": [
    "## Generate main.cpp and CMakeLists.txt"
   ]
  },
  {
   "cell_type": "code",
   "execution_count": null,
   "metadata": {
    "scrolled": true
   },
   "outputs": [],
   "source": [
    "if solver_index == 1 or solver_index == 2:\n",
    "    gencpp.generate_main(solver_index, solver_params, initialization_params, simulation_params, model_name)\n",
    "else:\n",
    "    gencpp.generate_main(solver_index, solver_params, initialization_params, simulation_params, model_name, saturation_list)    \n",
    "\n",
    "gencpp.generate_cmake(solver_index, model_name)\n",
    "gencpp.generate_cmake_for_model(model_name)"
   ]
  },
  {
   "cell_type": "markdown",
   "metadata": {},
   "source": [
    "## Build and run simulation\n",
    "NOTE: if you use Windows OS and an error occurs in `cppexec.setCMake(model_name)`, you may solve that error by running codes which are commented out instead of the original codes"
   ]
  },
  {
   "cell_type": "code",
   "execution_count": null,
   "metadata": {},
   "outputs": [],
   "source": [
    "cppexe.set_cmake(model_name)\n",
    "cppexe.make_and_run(model_name)\n",
    "# cppexe.remove_build_dir(model_name)\n",
    "# cppexe.set_cmake(model_name, MSYS=True)\n",
    "# cppexe.make_and_run(model_name)"
   ]
  },
  {
   "cell_type": "markdown",
   "metadata": {},
   "source": [
    "## Plot the simulation results"
   ]
  },
  {
   "cell_type": "code",
   "execution_count": null,
   "metadata": {},
   "outputs": [],
   "source": [
    "plot = simplt.SimulationPlottor(model_name)\n",
    "plot.set_scales(2,5,2)\n",
    "# plot.show_plots()\n",
    "plot.save_plots()"
   ]
  },
  {
   "cell_type": "markdown",
   "metadata": {},
   "source": [
    "## Draw an animation of the simulation results"
   ]
  },
  {
   "cell_type": "code",
   "execution_count": null,
   "metadata": {},
   "outputs": [],
   "source": [
    "anim = animgen.CartPole(model_name)\n",
    "anim.set_skip_frames(10)\n",
    "anim.generate_animation()"
   ]
  }
 ],
 "metadata": {
  "kernelspec": {
   "display_name": "Python 3",
   "language": "python",
   "name": "python3"
  },
  "language_info": {
   "codemirror_mode": {
    "name": "ipython",
    "version": 3
   },
   "file_extension": ".py",
   "mimetype": "text/x-python",
   "name": "python",
   "nbconvert_exporter": "python",
   "pygments_lexer": "ipython3",
   "version": "3.7.3"
  },
  "toc": {
   "base_numbering": 1,
   "nav_menu": {},
   "number_sections": true,
   "sideBar": true,
   "skip_h1_title": false,
   "title_cell": "Table of Contents",
   "title_sidebar": "Contents",
   "toc_cell": false,
   "toc_position": {},
   "toc_section_display": true,
   "toc_window_display": false
  }
 },
 "nbformat": 4,
 "nbformat_minor": 2
}
