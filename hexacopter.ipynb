{
 "cells": [
  {
   "cell_type": "markdown",
   "metadata": {},
   "source": [
    "# AutoGenU for Jupyter\n",
    "\n",
    "An Automatic C++ Code Generator for Nonlinear Model Predictive Control (NMPC)  \n",
    "\n",
    "---  "
   ]
  },
  {
   "cell_type": "markdown",
   "metadata": {},
   "source": [
    "# Generate C++ codes of NMPC model  "
   ]
  },
  {
   "cell_type": "markdown",
   "metadata": {},
   "source": [
    "## Import modules"
   ]
  },
  {
   "cell_type": "code",
   "execution_count": null,
   "metadata": {},
   "outputs": [],
   "source": [
    "from sympy import *\n",
    "from AutoGenU import basic_symbolic_func as symfunc\n",
    "from AutoGenU import cpp_generator as gencpp\n",
    "init_printing()"
   ]
  },
  {
   "cell_type": "markdown",
   "metadata": {},
   "source": [
    "## Set dimx, dimu, dimc\n",
    "`dimx`: dimension of the state vector $x$   \n",
    "`dimu`: dimension of the control input vector $u$  \n",
    "`dimc`: dimension of the constraints $C(x, u) = 0$  "
   ]
  },
  {
   "cell_type": "code",
   "execution_count": null,
   "metadata": {},
   "outputs": [],
   "source": [
    "dimx = 12\n",
    "dimu = 6\n",
    "dimc = 0"
   ]
  },
  {
   "cell_type": "markdown",
   "metadata": {},
   "source": [
    "## Generate t, x, u, and lmd, necessary variables for the formulation, and basic functions\n",
    "`t`: time parameter $t$  \n",
    "`x`: the state vector $x$  \n",
    "`u`: the control input vector $u$  \n",
    "`lmd`: the Lagrange multiplier vector for the state equation $\\lambda$"
   ]
  },
  {
   "cell_type": "code",
   "execution_count": null,
   "metadata": {},
   "outputs": [],
   "source": [
    "t = Symbol('t')\n",
    "x = symbols(f'x[0:{dimx}]')\n",
    "u = symbols(f'u[0:{dimu+dimc}]')\n",
    "lmd = symbols(f'lmd[0:{dimx}]')"
   ]
  },
  {
   "cell_type": "markdown",
   "metadata": {},
   "source": [
    "## Define user variables used in the state function here\n",
    "Define a scalar variable whose name is \"var\" as  \n",
    "`var = Symbol('var') `\n",
    "\n",
    "Define scalar variables whose names are \"var\\_1\", \"var\\_2\", ..., \"var\\_n\" as  \n",
    "`var_1, var_2, ..., var_n = symbols('var_1, var_2, ..., var_n')`\n",
    "\n",
    "Define a vector whose name is \"vec\" and dimension is dim_vec as  \n",
    "`vec = symbols(f'vec[0:{dim_vec}]')`"
   ]
  },
  {
   "cell_type": "code",
   "execution_count": null,
   "metadata": {},
   "outputs": [],
   "source": [
    "# Define user variables used in the state function here\n",
    "m, l, k, Ixx, Iyy, Izz, gamma, g, curve_radius, mean_height = symbols('m, l, k, Ixx, Iyy, Izz, gamma, g, curve_radius, mean_height')\n",
    "\n",
    "# Reference trajectory\n",
    "xyz_ref = [curve_radius*sin(0.5*t), curve_radius*(1-cos(0.5*t)), mean_height]\n",
    "xyz_ref_diff = [diff(xyz_ref[i], t) for i in range(len(xyz_ref))]\n"
   ]
  },
  {
   "cell_type": "markdown",
   "metadata": {},
   "source": [
    "## Define weight parameters used in the stage cost and the terminal cost\n",
    "`q`: weight array for the state in the stage cost  \n",
    "`r`: weight array for the control input in the stage cost  \n",
    "`q_terminal`: weight array for the state in the terminal cost  \n",
    "`x_ref`: the reference value of the state"
   ]
  },
  {
   "cell_type": "code",
   "execution_count": null,
   "metadata": {},
   "outputs": [],
   "source": [
    "q = symbols(f'q[0:{dimx}]')\n",
    "r = symbols(f'r[0:{dimu+dimc}]')\n",
    "q_terminal = symbols(f'q_terminal[0:{dimx}]')"
   ]
  },
  {
   "cell_type": "markdown",
   "metadata": {},
   "source": [
    "## Define the state function, constraints, stage cost, terminal cost\n",
    "`fxu`: state equation $ f(x, u)$  \n",
    "`Cxu`: equality constraisnts $C(x, u) $  \n",
    "`L`: stage cost $L(x, u)$  \n",
    "`phi`: terminal cost $\\phi (x)$  \n",
    "Note: array indices start with 0"
   ]
  },
  {
   "cell_type": "code",
   "execution_count": null,
   "metadata": {},
   "outputs": [],
   "source": [
    "# propeller's input transformation\n",
    "U1 = sum(u[i] for i in range(dimu))\n",
    "U2 = l*(-u[0]/2 - u[1] - u[2]/2 + u[3]/2 + u[4]+ u[5]/2)\n",
    "U3 = l*(-(sqrt(3)/2)*u[0] + (sqrt(3)/2)*u[2] + (sqrt(3)/2)*u[3] - (sqrt(3)/2)*u[5])\n",
    "U4 = k*(u[0] - u[1] + u[2] - u[3] + u[4] - u[5]) - gamma * x[11]\n",
    "\n",
    "# Define the state equation\n",
    "fxu = [x[6],\n",
    "       x[7],\n",
    "       x[8],\n",
    "       x[9],\n",
    "       x[10],\n",
    "       x[11],\n",
    "       (cos(x[5])*sin(x[4])*cos(x[3])+sin(x[5])*sin(x[3]))*U1/m,\n",
    "       (sin(x[5])*sin(x[4])*cos(x[3])-cos(x[5])*sin(x[3]))*U1/m,\n",
    "        -g + (cos(x[3])*cos(x[4]))*U1/m,\n",
    "       ((Iyy-Izz)/Ixx)*x[10]*x[11] + U2/Ixx,\n",
    "       ((Izz-Ixx)/Iyy)*x[9]*x[11] + U3/Iyy,\n",
    "       ((Ixx-Iyy)/Izz)*x[9]*x[10] + U4/Izz]\n",
    "\n",
    "# Define the constraints (if dimc > 0)\n",
    "Cxu = []\n",
    "\n",
    "# Define the stage cost\n",
    "u_ref = (m*g)/6\n",
    "L = sum((q[i]*(x[i]-xyz_ref[i])**2)/2 for i in range(3)) + sum((q[i]*x[i]**2)/2 for i in range(3, 6))+ sum((q[i+6]*(x[i+6]-xyz_ref_diff[i])**2)/2 for i in range(3)) + sum((q[i]*x[i]**2)/2 for i in range(9, 12)) + sum(r[i] * (u[i]-u_ref)**2 for i in range(dimu))/2 \n",
    "\n",
    "# Define the terminal cost\n",
    "phi = sum((q_terminal[i]*(x[i]-xyz_ref[i])**2)/2 for i in range(3)) + sum((q_terminal[i]*x[i]**2)/2 for i in range(3, 6))+ sum((q_terminal[i+6]*(x[i+6]-xyz_ref_diff[i])**2)/2 for i in range(3)) + sum((q_terminal[i]*x[i]**2)/2 for i in range(9, 12))\n"
   ]
  },
  {
   "cell_type": "markdown",
   "metadata": {},
   "source": [
    "## Generate  optimality conditions\n",
    "`hamiltonian`: $H(x, u, \\lambda) = L(x, u) + \\lambda^{\\rm T} f(x, u)$  \n",
    "`hx`: partial derivartive of the hamiltonian $H (x, u, \\lambda)$ with respect to $x$, $\\left(\\frac{\\partial H}{\\partial x} \\right)^{\\rm T} (x, u, \\lambda)$    \n",
    "`hu`: partial derivartive of the hamiltonian $H (x, u, \\lambda)$ with respect to $u$, $\\left(\\frac{\\partial H}{\\partial u} \\right)^{\\rm T}, (x, u, \\lambda)$    \n",
    "`phix`: partial derivative of the terminal cost $\\phi(x)$ with respect to $x$, $\\left(\\frac{\\partial \\phi}{\\partial x} \\right)^{\\rm T} (x)$"
   ]
  },
  {
   "cell_type": "code",
   "execution_count": null,
   "metadata": {},
   "outputs": [],
   "source": [
    "if(dimc > 0):\n",
    "    hamiltonian = L + symfunc.dotProduct(lmd, fxu) + sum(u[dimu+i] * Cxu[i] for i in range(dimc))\n",
    "else:\n",
    "    hamiltonian = L + symfunc.dotProduct(lmd, fxu) \n",
    "\n",
    "phix = symfunc.diffScalarFunc(phi, x)\n",
    "hx = symfunc.diffScalarFunc(hamiltonian, x)\n",
    "hu = symfunc.diffScalarFunc(hamiltonian, u)"
   ]
  },
  {
   "cell_type": "markdown",
   "metadata": {},
   "source": [
    "## Symplify phix, hx, and hu\n",
    "Note: if `hx` and `hu` is too complicated, it takes too much time to simplify them"
   ]
  },
  {
   "cell_type": "code",
   "execution_count": null,
   "metadata": {},
   "outputs": [],
   "source": [
    "phix = simplify(phix)\n",
    "hx = simplify(hx)\n",
    "hu = simplify(hu)"
   ]
  },
  {
   "cell_type": "markdown",
   "metadata": {},
   "source": [
    "## Set Parameters\n",
    "set all parameters used in the state equation and the cost function"
   ]
  },
  {
   "cell_type": "code",
   "execution_count": null,
   "metadata": {},
   "outputs": [],
   "source": [
    "# scalar parameters\n",
    "scalar_params = [[m, 1.44], [l, 0.23], [k, 1.6e-09],  \n",
    "                 [Ixx, 0.0348], [Iyy, 0.0459], [Izz, 0.0977], [gamma, 0.01], [g, 9.80665], \n",
    "                 [curve_radius, 1], [mean_height, 10]]\n",
    "\n",
    "# array parameters\n",
    "array_params = [['q', dimx, '{1, 1, 1, 0.01, 0.01, 0, 0.01, 0.01, 0.01, 0.1, 0.1, 0.001}'], \n",
    "                ['r', dimu, '{0.01, 0.01, 0.01, 0.01}'], \n",
    "                ['q_terminal', dimx, '{1, 1, 1, 0.01, 0.01, 0, 0.01, 0.01, 0.01, 0.1, 0.1, 0.001}']]\n"
   ]
  },
  {
   "cell_type": "markdown",
   "metadata": {},
   "source": [
    "## Generate C++ codes of NMPC model\n",
    "generate `nmpc_model.hpp` and `nmpc_model.cpp` in a \n",
    "directory of `model_name`"
   ]
  },
  {
   "cell_type": "code",
   "execution_count": null,
   "metadata": {},
   "outputs": [],
   "source": [
    "model_name = \"hexacopter\"\n",
    "\n",
    "gencpp.makeModelDir(model_name)\n",
    "gencpp.generateCpp(dimx, dimu, dimc, fxu, Cxu, phix, hx, hu, model_name)\n",
    "gencpp.generateHpp(dimx, dimu, dimc, scalar_params, array_params, model_name)"
   ]
  },
  {
   "cell_type": "markdown",
   "metadata": {},
   "source": [
    "---  \n",
    "# Generate C++ codes for numerical simulation  "
   ]
  },
  {
   "cell_type": "code",
   "execution_count": null,
   "metadata": {},
   "outputs": [],
   "source": [
    "from AutoGenU import solver_params as solverparams\n",
    "from AutoGenU import simulation_params as simparams\n",
    "from AutoGenU import cpp_executor as cppexec\n",
    "from AutoGenU import simulation_plottor as simplot"
   ]
  },
  {
   "cell_type": "markdown",
   "metadata": {},
   "source": [
    "## Set solvers  \n",
    "set which solvers you use  in `solver_index`\n",
    "  \n",
    "1. The continuation/GMRES method (the original C/GMRES method, single shooting)\n",
    "2. The multiple shooting based C/GMRES method\n",
    "3. The multiple shooting based C/GMRES method with condensing of variables with respect to the constraints on the saturation function on the control input"
   ]
  },
  {
   "cell_type": "code",
   "execution_count": null,
   "metadata": {},
   "outputs": [],
   "source": [
    "solver_index = 2"
   ]
  },
  {
   "cell_type": "markdown",
   "metadata": {},
   "source": [
    "## Set saturaions on the control input if you choose `solver_index = 3`\n",
    "- saturation on the control input: $u_{i, {\\rm min}} \\leq u_i \\leq u_{i, {\\rm max}}$  \n",
    "$u_i \\in \\mathbb{R}$ : a constrained component of the control input $u$  \n",
    "- transformed equality constraint: $(u_i - \\frac{u_{i, {\\rm max}} + u_{i, {\\rm min}}}{2})^2 - ( \\frac{u_{i, {\\rm max}} - u_{i, {\\rm min}}}{2})^2 + {u_d}_i ^2 = 0$  \n",
    "${u_d}_i \\in \\mathbb{R}$ : a dummy input for the transformation of the saturation into the equality constraint  \n",
    "- additional term in the stage cost $L(x, u)$ with respect to the saturation of $u_i$: $- {r_d}_i {u_d}_i + \\frac{1}{2} {r_q}_i {u_d}_i ^2$  \n",
    "   ${r_d}_i > 0$: a weight parameter to avoid failure of numerical computation, ${r_q}_i \\geq 0$: a weight parameter to increase mergin of the saturation  \n",
    "\n",
    "`index`: $i$  \n",
    "`u_min`: $u_{i, {\\rm min}}$  \n",
    "`u_max`: $u_{i, {\\rm max}}$   \n",
    "`dummy_weight`: ${r_d}_i > 0$  \n",
    "`quadratic_weight` :  ${r_q}_i \\geq 0$  \n",
    "`saturation_param` = [`index`, `u_min`, `u_max`, `dummy_weight`, `quadratic_weight`]"
   ]
  },
  {
   "cell_type": "code",
   "execution_count": null,
   "metadata": {},
   "outputs": [],
   "source": [
    "saturation_list = []\n",
    "# saturation_list = [[index , u_min, u_max, dummy_weight, quadratic_weight], [index , u_min, u_max, dummy_weight, quadratic_weight], .., []]"
   ]
  },
  {
   "cell_type": "markdown",
   "metadata": {},
   "source": [
    "## Set parameters for the solver\n",
    "\n",
    "`T_f`, `alpha`: parameters for the length of the horizon $T(t)$: $T(t) = T_f (1 - e^{-\\alpha t})$  \n",
    "`horizon_division_num`: the division number of the horzion for numerical computation  \n",
    "`difference_incremenet`: difference increment for the forward difference approximation  \n",
    "`zeta`: a stabilization parameter for the continuation transformation   \n",
    "`max_dim_krylov`: the maximam number of the iteration of the GMRES  "
   ]
  },
  {
   "cell_type": "code",
   "execution_count": null,
   "metadata": {
    "code_folding": []
   },
   "outputs": [],
   "source": [
    "T_f = 1.0\n",
    "alpha = 1.0\n",
    "horizon_division_num = 50\n",
    "difference_increment = 1.0e-08\n",
    "zeta = 1000\n",
    "max_dim_krylov = 5\n",
    "\n",
    "solver_params = solverparams.SolverParams(T_f, alpha, horizon_division_num, difference_increment, zeta, max_dim_krylov)"
   ]
  },
  {
   "cell_type": "markdown",
   "metadata": {},
   "source": [
    "## Set parameters for the initialization of the solution  \n",
    "`initial_guess_solution`: the initial guess of the solution  \n",
    "`convergence_radius`: the convergence radius of Newton's method for the initialization of the solution  \n",
    "`maximum_itr_newton`: maximum number of iterations in Newton's method for the initizalization of the solution  \n",
    "`initial_guess_lagrange_multiplier`: the initial guess of the lagrange multiplier for the condensed constraints with respect to the saturation on the function of the control input"
   ]
  },
  {
   "cell_type": "code",
   "execution_count": null,
   "metadata": {},
   "outputs": [],
   "source": [
    "initial_guess_solution = [(1.44*9.80665)/6, (1.44*9.80665)/6, (1.44*9.80665)/6, (1.44*9.80665)/6, (1.44*9.80665)/6, (1.44*9.80665)/6]\n",
    "convergence_radius = 1.0e-06\n",
    "maximum_itr_newton = 50\n",
    "initial_guess_lagrange_multiplier = []\n",
    "\n",
    "if solver_index == 1 or solver_index == 2:\n",
    "    initialization_params = solverparams.InitializationParams(initial_guess_solution, convergence_radius, maximum_itr_newton)\n",
    "else:\n",
    "    initialization_params = solverparams.InitializationParams(initial_guess_solution, convergence_radius, maximum_itr_newton, initial_guess_lagrange_multiplier)"
   ]
  },
  {
   "cell_type": "markdown",
   "metadata": {},
   "source": [
    "## Set parameters for numerical simulation\n",
    "`initial_time`: initial time of the numerical simulation  \n",
    "`initial_state`: initial state vector of the system  \n",
    "`simulation_time`: simulation time of the numerical simulation  \n",
    "`sampling_time`: the sampling time of the numerical simulation"
   ]
  },
  {
   "cell_type": "code",
   "execution_count": null,
   "metadata": {},
   "outputs": [],
   "source": [
    "initial_time = 0  \n",
    "initial_state = [0, 0, 5, 0, 0, 0, 0, 0, 0, 0, 0, 0]  \n",
    "simulation_time = 10\n",
    "sampling_time = 0.001  \n",
    "\n",
    "simulation_params = simparams.SimulationParams(initial_time, initial_state, simulation_time, sampling_time)"
   ]
  },
  {
   "cell_type": "markdown",
   "metadata": {},
   "source": [
    "## Generate main.cpp and CMakeLists.txt"
   ]
  },
  {
   "cell_type": "code",
   "execution_count": null,
   "metadata": {
    "scrolled": true
   },
   "outputs": [],
   "source": [
    "if solver_index == 1 or solver_index == 2:\n",
    "    gencpp.generateMain(solver_index, solver_params, initialization_params, simulation_params, model_name)\n",
    "else:\n",
    "    gencpp.generateMain(solver_index, solver_params, initialization_params, simulation_params, model_name, saturation_list)    \n",
    "\n",
    "gencpp.generateCMake(solver_index, model_name)\n",
    "gencpp.generateCMakeForModel(model_name)"
   ]
  },
  {
   "cell_type": "markdown",
   "metadata": {},
   "source": [
    "## Make files and run simulation\n",
    "NOTE: if you use Windows OS and an error occurs in `cppexec.setCMake(model_name)`, you may solve that error by running codes which are commented out instead of the original codes"
   ]
  },
  {
   "cell_type": "code",
   "execution_count": null,
   "metadata": {},
   "outputs": [],
   "source": [
    "cppexec.setCMake(model_name)\n",
    "cppexec.makeAndRun(model_name)\n",
    "# cppexec.removeBuildDir(model_name)\n",
    "# cppexec.setCMake(model_name, MSYS=True)\n",
    "# cppexec.makeAndRun(model_name)"
   ]
  },
  {
   "cell_type": "markdown",
   "metadata": {},
   "source": [
    "## Plot simulation data"
   ]
  },
  {
   "cell_type": "code",
   "execution_count": null,
   "metadata": {},
   "outputs": [],
   "source": [
    "plot = simplot.SimulationPlottor(model_name)\n",
    "plot.setScales(2,5,2)\n",
    "plot.showPlots()\n",
    "# plot.savePlots()"
   ]
  },
  {
   "cell_type": "code",
   "execution_count": null,
   "metadata": {},
   "outputs": [],
   "source": []
  },
  {
   "cell_type": "code",
   "execution_count": null,
   "metadata": {},
   "outputs": [],
   "source": []
  }
 ],
 "metadata": {
  "kernelspec": {
   "display_name": "Python 3",
   "language": "python",
   "name": "python3"
  },
  "language_info": {
   "codemirror_mode": {
    "name": "ipython",
    "version": 3
   },
   "file_extension": ".py",
   "mimetype": "text/x-python",
   "name": "python",
   "nbconvert_exporter": "python",
   "pygments_lexer": "ipython3",
   "version": "3.7.3"
  },
  "toc": {
   "base_numbering": 1,
   "nav_menu": {},
   "number_sections": true,
   "sideBar": true,
   "skip_h1_title": false,
   "title_cell": "Table of Contents",
   "title_sidebar": "Contents",
   "toc_cell": false,
   "toc_position": {},
   "toc_section_display": true,
   "toc_window_display": false
  }
 },
 "nbformat": 4,
 "nbformat_minor": 2
}
