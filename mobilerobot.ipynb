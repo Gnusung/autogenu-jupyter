{
 "cells": [
  {
   "cell_type": "markdown",
   "metadata": {},
   "source": [
    "# AutoGenU for Jupyter\n",
    "\n",
    "An Automatic C++ Code Generator for Nonlinear Model Predictive Control (NMPC)  \n",
    "\n",
    "---  "
   ]
  },
  {
   "cell_type": "markdown",
   "metadata": {},
   "source": [
    "## Formulation of the optimal control problem: Mobile robot"
   ]
  },
  {
   "cell_type": "markdown",
   "metadata": {},
   "source": [
    "### Model description\n",
    "<img src=\"https://raw.github.com/wiki/mayataka/CGMRES/images/fig_mobilerobot.png\" width=40%>\n",
    "\n",
    "The above figure shows the model of a mobile robot. The kinematics of the robot is given by\n",
    "$$ \\dot{X} = V \\cos{\\theta}, $$\n",
    "$$ \\dot{Y} = V \\sin{\\theta}. $$\n",
    "Physical limitations of the robot are given by\n",
    "$$ V_{\\rm min} \\leq V \\leq V_{\\rm max}, $$\n",
    "$$ w_{\\rm min} \\leq \\dot{\\theta} \\leq w_{\\rm max}. $$\n",
    "\n",
    "### Control Objective\n",
    "We consider tracjectory tracking problem. We set the reference trajectory as \n",
    "$$ x_{\\rm ref} (t) = \\begin{bmatrix} t v_{\\rm ref} \\\\ 0 \\end{bmatrix} .$$\n",
    "We also assume that there are two circular obstacles to be avoided whose center and radius are $(X_1, Y_1)$, $R_1$ and $(X_2, Y_2)$, $R_2$, respectively.\n",
    "\n",
    "### Formulation of the optimal control problem\n",
    "We define the state vector as\n",
    "$$ x = \\begin{bmatrix} X \\\\ Y \\\\ \\theta \\end{bmatrix} .$$\n",
    "We assume that $V=u_1$ and $\\theta = u_2$. The state equation is then given as \n",
    "$$ \\dot{x} = f(t, x, u) = \\begin{bmatrix} u_1 \\cos{\\theta} \\\\ u_1 \\sin{\\theta} \\\\ u_2 \\end{bmatrix} $$\n",
    "\n",
    "Next, we set the cost function \n",
    "$$ J = \\varphi(t, x) + \\int_{t}^{t+T} L(t, x, u) .$$\n",
    "To achieve the aforementioned goal, we set the terminal cost as\n",
    "$$\\varphi(t,x) = \\frac{1}{2} q_1 (x_1 - t v_{\\rm ref})^2 + \\frac{1}{2} q_2 x_2 ^2 + \\frac{1}{2} q_3 x_3 ^2 $$  \n",
    "and the stage cost as \n",
    "$$ L(t, x, u) = \\frac{1}{2} q_1 (x_1 - t v_{\\rm ref})^2 + \\frac{1}{2} q_2 x_2 ^2 + \\frac{1}{2} q_3 x_3 ^2 + \\frac{1}{2} r_1 (u_1 \\cos{x_3} - v_{\\rm ref})^2 + \\frac{1}{2} r_2 u_2 ^2 $$  \n",
    "where $q_1, q_2, q_3$, $r_1, r_2$ are positive real constant.\n",
    "From the physical limitations and the obstacles, there are 6 inequality constraints \n",
    "$$\n",
    "h(x, u) = \\begin{bmatrix} R_1 ^2 - (x_1 - X_1)^2 - (x_2 - Y_1)^2 \\\\\n",
    "                          R_2 ^2 - (x_1 - X_2)^2 - (x_2 - Y_2)^2 \\\\\n",
    "                          v_{\\rm min} - u_1 \\\\\n",
    "                          u_1 - v_{\\rm max} \\\\ \n",
    "                          w_{\\rm min} - u_2 \\\\ \n",
    "                          u_2 - w_{\\rm max} \n",
    "                          \\end{bmatrix} \\leq 0\n",
    "$$\n",
    "In this example, these inequality constraints are considered by the semi-smooth Fischer-Burmeister method.\n",
    "In the optimization problem, the complementary conditions are imposed for inequality constraints, e.g., for $g(x, u) \\in \\mathbb{R}$,\n",
    "$$\n",
    "    g(x, u) \\leq 0 ,\n",
    "$$\n",
    "$$\n",
    "    \\nu \\geq 0 ,\n",
    "$$\n",
    "$$\n",
    "    \\nu g(x, u) = 0 .\n",
    "$$\n",
    "The semi-smooth Fischer-Burmeister method transforms these conditions into\n",
    "$$\n",
    "    \\Phi(\\nu, - g(x, u)) = 0, \\;\\; \\Phi(a, b) = \\sqrt{a^2 + b^2 + \\epsilon ^2} - (a + b) .\n",
    "$$\n",
    "where $\\epsilon > 0$ is a regularization term. \n",
    "After all, in the optimal control problem, we find the solution satisfying the following conditions\n",
    "$$\n",
    "    \\left( \\frac{\\partial H}{\\partial u} \\right)^{\\rm T} = \\left( \\frac{\\partial L}{\\partial u} \\right)^{\\rm T} + \\left( \\frac{\\partial f}{\\partial u} \\right)^{\\rm T} \\lambda + \\left( \\frac{\\partial h}{\\partial u} \\right)^{\\rm T} \\nu,\n",
    "$$\n",
    "$$\n",
    "    \\Phi(\\nu_i, - h_i(x, u)) = 0 ,\n",
    "$$\n",
    "where $\\lambda$ and $\\nu$ are the Lagrange multipliers and the latter condition is imposed on elementwise.\n",
    "\n",
    "### References \n",
    "For more details about the semi-smooth Fischer-Burmeister method in the optimal control problem, especially with the C/GMRES method, see the following references.\n",
    "- [M. Huang, et. al, Nonlinear Model Predictive Control of a Diesel Engine Air Path: A Comparison of Constraint Handling and Computational Strategies, IFAC-PapersOnLine, Vol. 48, No. 23, pp. 372-379 (2015)](https://doi.org/10.1016/j.ifacol.2015.11.308)\n",
    "- [M. Huang, Low Complexity Model Predictive Control of a Diesel Engine Airpath, Ph. D. diss., University of Michigan (2016)](https://deepblue.lib.umich.edu/handle/2027.42/120832)\n",
    "- [S. Alamdari, S. Amin, Stochastic Model Predictive Control for Eco-Driving Assistance Systems in Electric Vehicles, Ph. D. diss., University of Luxembourg (2018)](http://orbilu.uni.lu/handle/10993/36164)\n",
    "- [D. Liao-McPherson, M. Huang and I. Kolmanovsky, A Regularized and Smoothed Fischer–Burmeister Method for Quadratic Programming With Applications to Model Predictive Control, IEEE Transactions on Automatic Control, Vol. 64, No. 7, pp. 2937-2944 (2019)](https://doi.org/10.1109/TAC.2018.2872201)\n",
    "\n",
    "### Numerical solver of NMPC\n",
    "In the following example, we compute the solution of NMPC using the multiple-shooting-based C/GMRES method."
   ]
  },
  {
   "cell_type": "markdown",
   "metadata": {},
   "source": [
    "---\n",
    "\n",
    "# Generate C++ codes of NMPC model  "
   ]
  },
  {
   "cell_type": "markdown",
   "metadata": {},
   "source": [
    "## Import modules"
   ]
  },
  {
   "cell_type": "code",
   "execution_count": 1,
   "metadata": {},
   "outputs": [],
   "source": [
    "from autogenu import autogenu"
   ]
  },
  {
   "cell_type": "markdown",
   "metadata": {},
   "source": [
    "## Set dimensions and define `AutoGenU`\n",
    "- `nx`: Dimension of the state vector $x$   \n",
    "- `nu`: Dimension of the control input vector $u$  \n",
    "- `ocp_name`: Name of the optimal control problem (OCP). Used as the name of the directory containing the generated C++ source files."
   ]
  },
  {
   "cell_type": "code",
   "execution_count": 2,
   "metadata": {},
   "outputs": [],
   "source": [
    "nx = 3\n",
    "nu = 2\n",
    "ocp_name = 'mobilerobot'\n",
    "ag = autogenu.AutoGenU(ocp_name, nx, nu)"
   ]
  },
  {
   "cell_type": "markdown",
   "metadata": {},
   "source": [
    "## Generate t, x, and u, necessary variables to formulate of the optimal control problem\n",
    "- `t`: Time parameter $t$  \n",
    "- `x`: The state vector $x$  \n",
    "- `u`: The control input vector $u$  "
   ]
  },
  {
   "cell_type": "code",
   "execution_count": 3,
   "metadata": {},
   "outputs": [],
   "source": [
    "t = ag.define_t()\n",
    "x = ag.define_x()\n",
    "u = ag.define_u()"
   ]
  },
  {
   "cell_type": "markdown",
   "metadata": {},
   "source": [
    "## Define variables used in the state equation, constraints, and cost function\n",
    "- Define a scalar variable whose name is \"var\" as  \n",
    "`var = ag.define_scalar_var('var') `\n",
    "\n",
    "- Define scalar variables whose names are \"var\\_1\", \"var\\_2\", ..., \"var\\_n\" as  \n",
    "`var_1, var_2, ..., var_n = ag.define_scalar_vars('var_1', 'var_2', ..., 'var_n')`\n",
    "\n",
    "- Define array variables whose name is \"vec\" and dimension is dim_vec as  \n",
    "`vec = ag.define_array_var('vec', dim_vec)`"
   ]
  },
  {
   "cell_type": "code",
   "execution_count": 4,
   "metadata": {},
   "outputs": [],
   "source": [
    "# Define variables used in the state function\n",
    "vx_ref = ag.define_scalar_var('vx_ref')\n",
    "v_min, v_max = ag.define_scalar_vars('v_min', 'v_max')\n",
    "w_min, w_max = ag.define_scalar_vars('w_min', 'w_max')\n",
    "X_1, Y_1, R_1 = ag.define_scalar_vars('X_1', 'Y_1', 'R_1')\n",
    "X_2, Y_2, R_2 = ag.define_scalar_vars('X_2', 'Y_2', 'R_2')\n",
    "xx_ref = vx_ref * t\n",
    "\n",
    "# Variables used in the cost function\n",
    "q = ag.define_array_var('q', nx)\n",
    "r = ag.define_array_var('r', nu)\n",
    "x_ref = ag.define_array_var('x_ref', nx)"
   ]
  },
  {
   "cell_type": "markdown",
   "metadata": {},
   "source": [
    "## Define the state equation, constraints, the stage cost, and the terminal cost\n",
    "- `f`: The state equation $ f(t, x, u)$  \n",
    "- `C`: The equality constraisnts $C(t, x, u) = 0 $  \n",
    "- `h`: The inequality constraisnts $h(t, x, u) \\leq 0$ considered by semi-smooth Fischer-Burumeister method  \n",
    "- `L`: The stage cost $L(t, x, u)$  \n",
    "- `phi`: The terminal cost $\\phi (t, x)$  \n",
    "\n",
    "Note: array indices start with 0"
   ]
  },
  {
   "cell_type": "code",
   "execution_count": 5,
   "metadata": {},
   "outputs": [],
   "source": [
    "# Import symbolic math from sympy. If you need more functions, import same as below.\n",
    "from sympy import sin, cos, tan, exp, log, sinh, cosh, tanh, diff, sqrt"
   ]
  },
  {
   "cell_type": "code",
   "execution_count": 6,
   "metadata": {},
   "outputs": [],
   "source": [
    "# Define the state equation\n",
    "f = [u[0] * cos(x[2]),\n",
    "     u[0] * sin(x[2]),\n",
    "     u[1]]\n",
    "    \n",
    "# Define the equality constraints C(x, u) = 0\n",
    "C = []\n",
    "\n",
    "# Define the inequality constraints considered using the semi-smooth Fischer-Burmeister method\n",
    "h = [R_1**2 - (x[0]-X_1)**2 - (x[1]-Y_1)**2,\n",
    "     R_2**2 - (x[0]-X_2)**2 - (x[1]-Y_2)**2,\n",
    "     v_min - u[0],\n",
    "     u[0] - v_max,\n",
    "     w_min - u[1],\n",
    "     u[1] - w_max]\n",
    "\n",
    "# Define the stage cost\n",
    "L = (q[0]*(x[0]-xx_ref)**2 + q[1]*x[1]**2 + q[2]*x[2]**2) / 2 + (r[0]*(u[0]*cos(x[2])-vx_ref)**2 + r[1]*u[1]**2) / 2\n",
    "\n",
    "# Define the terminal cost\n",
    "phi = (q[0]*(x[0]-xx_ref)**2 + q[1]*x[1]**2 + q[2]*x[2]**2)/2 "
   ]
  },
  {
   "cell_type": "code",
   "execution_count": 7,
   "metadata": {},
   "outputs": [],
   "source": [
    "# Set functions\n",
    "ag.set_functions(f, C, h, L, phi)"
   ]
  },
  {
   "cell_type": "markdown",
   "metadata": {},
   "source": [
    "## Set Parameters\n",
    "Set values for all parameters you defined.\n",
    "- Set `value` for a scalar variable whose name is \"var\" as  \n",
    "`ag.set_scalar_var('var', value) `\n",
    "\n",
    "- Set `value_1`, `value_2`, ..., `value_n`, for scalar variables whose names are \"var\\_1\", \"var\\_2\", ..., \"var\\_n\" as  \n",
    "`ag.set_scalar_vars(['var_1', value_1], ['var_2', value_2], ..., ['var_n', value_n])`\n",
    "\n",
    "- Set array variables `var_1`, `var_2`, ..., `var_n` whose name is \"vec\" and dimension is n as  \n",
    "`ag.define_array_var('vec', [var_1, var_2, ..., var_n])`\n",
    "\n",
    "- If you define the inequality constraints using Fischer-Brumeister method `h`, then you have to define related regularization term additionaly. The dimension of the regularization term must be same as the dimension of `h`. If the dimension is `nh`, you need to set the regularization as `ag.set_FB_epsilon([eps_1, ..., eps_nh])`"
   ]
  },
  {
   "cell_type": "code",
   "execution_count": 8,
   "metadata": {},
   "outputs": [],
   "source": [
    "ag.set_scalar_vars(['vx_ref', 0.4], ['X_1', 1], ['Y_1', 0.25], ['R_1', 0.5],\n",
    "                   ['X_2', 2], ['Y_2', -0.25], ['R_2', 0.5],\n",
    "                   ['v_min', -0.5], ['v_max', 0.5],\n",
    "                   ['w_min', -0.75], ['w_max', 0.75])\n",
    "ag.set_array_var('q', [10, 1, 0.01])\n",
    "ag.set_array_var('r', [0.1, 0.1])\n",
    "ag.set_array_var('x_ref', [0, 0, 0])\n",
    "\n",
    "ag.set_FB_epsilon([0.01, 0.01, 0.0001, 0.0001, 0.0001, 0.0001])"
   ]
  },
  {
   "cell_type": "markdown",
   "metadata": {},
   "source": [
    "## Generate C++ codes of optimal control problem\n",
    "Generate `ocp.hpp` that defines the optimal control problem (OCP).  \n",
    "- `use_simplification`: The flag for simplification. If `True`, symbolic functions are simplified. However, if functions are too complicated, it takes too much time. Default is `False`.  \n",
    "- `use_case`: The flag for common subexpression elimination. If `True`, common subexpressions in fxu, phix, hx, and hu are eliminated when `ocp.hpp` is generated. Default is `False`. "
   ]
  },
  {
   "cell_type": "code",
   "execution_count": 9,
   "metadata": {},
   "outputs": [],
   "source": [
    "use_simplification = False\n",
    "use_cse = True\n",
    "\n",
    "ag.generate_source_files(use_simplification, use_cse)"
   ]
  },
  {
   "cell_type": "markdown",
   "metadata": {},
   "source": [
    "---  \n",
    "# Generate C++ codes for numerical simulation  "
   ]
  },
  {
   "cell_type": "markdown",
   "metadata": {},
   "source": [
    "## Set NLP type  \n",
    "Set which NLP formulation you use. (hint: `MultipleShooting` works better for typical nonlinear problems.)\n",
    "- `MultipleShooting` (recommended) : The multiple shooting based C/GMRES method with condensing of the state and the Lagragne multipliers with respect to the state equation.\n",
    "- `SingleShooting` : The single shooting method, i.e., the original C/GMRES method."
   ]
  },
  {
   "cell_type": "code",
   "execution_count": 10,
   "metadata": {},
   "outputs": [],
   "source": [
    "nlp_type = autogenu.NLPType.MultipleShooting\n",
    "ag.set_nlp_type(nlp_type)"
   ]
  },
  {
   "cell_type": "markdown",
   "metadata": {},
   "source": [
    "## Set parameters for the C/GMRES method\n",
    "\n",
    "- `Tf`, `alpha`: Parameters for the length of the horizon. If $\\alpha > 0$, time-varying horizon length $T(t) = T_f (1 - e^{-\\alpha t})$ is used. Otherwise, $T(t)$ is fixed by $T_f$. \n",
    "- `N`: The division number of the horzion for the numerical computation.  \n",
    "- `finite_difference_epsilon`: Step length of a finite difference approximations of hessian-vector products in C/GMRES.   \n",
    "- `zeta`: A stabilization parameter of the C/GMRES method. Basically, must be set by the reciprocal of the sampling time.  \n",
    "- `kmax`: The maximam number of the iteration of the GMRES."
   ]
  },
  {
   "cell_type": "code",
   "execution_count": 11,
   "metadata": {
    "code_folding": []
   },
   "outputs": [],
   "source": [
    "Tf = 1.5\n",
    "alpha = 0.0\n",
    "N = 50\n",
    "finite_difference_epsilon = 1.0e-08\n",
    "zeta = 1000  \n",
    "kmax = 15\n",
    "\n",
    "ag.set_solver_settings(Tf, alpha, N, finite_difference_epsilon, zeta, kmax)"
   ]
  },
  {
   "cell_type": "markdown",
   "metadata": {},
   "source": [
    "## Set parameters for the initialization of the solution  \n",
    "- `solution_initial_guess`: The initial guess of the solution of the optimal control problem (OCP) for initialization of the solution of NMPC.   \n",
    "- `newton_residual_torelance`: The residual torelance of the solution of the OCP for the initialization of the solution of NMPC. The Newton iteration terminates when the optimality error is less than this velue.  \n",
    "- `max_newton_iteration`: The maxmum number of Newton iteration for the initialization of the solution of NMPC.  \n",
    "- `initial_Lagrange_multiplier`: An optional parameter for `MSCGMRESWithInputSaturation`. This is a part of the initial guess of the solution, the initial guess of the Lagrange multiplier with respect the constraints on the saturation function of the control input. NOTE that this parameter has to be defined as list. If you do not specify this parameter, the all of initial Lagrange multiplier are set by 1e-03."
   ]
  },
  {
   "cell_type": "code",
   "execution_count": 12,
   "metadata": {},
   "outputs": [],
   "source": [
    "solution_initial_guess = [0.1, 0.1, 0.01, 0.01, 0.01, 0.01, 0.01, 0.01]\n",
    "newton_residual_torelance = 1.0e-06\n",
    "max_newton_iteration = 50\n",
    "\n",
    "ag.set_initialization_parameters(solution_initial_guess, newton_residual_torelance, max_newton_iteration)"
   ]
  },
  {
   "cell_type": "markdown",
   "metadata": {},
   "source": [
    "## Set parameters for numerical simulation\n",
    "- `initial_time`: Initial time of the numerical simulation.  \n",
    "- `initial_state`: Initial state vector of the system.  \n",
    "- `simulation_time`: Simulation time of the numerical simulation.  \n",
    "- `sampling_time`: The sampling time of the numerical simulation."
   ]
  },
  {
   "cell_type": "code",
   "execution_count": 13,
   "metadata": {},
   "outputs": [],
   "source": [
    "initial_time = 0  \n",
    "initial_state = [0, 0, 0]  \n",
    "simulation_time = 10\n",
    "sampling_time = 0.001  \n",
    "\n",
    "ag.set_simulation_parameters(initial_time, initial_state, simulation_time, sampling_time)"
   ]
  },
  {
   "cell_type": "markdown",
   "metadata": {},
   "source": [
    "## Generate main.cpp and CMakeLists.txt"
   ]
  },
  {
   "cell_type": "code",
   "execution_count": 14,
   "metadata": {
    "scrolled": true
   },
   "outputs": [],
   "source": [
    "ag.generate_main()\n",
    "ag.generate_cmake()"
   ]
  },
  {
   "cell_type": "markdown",
   "metadata": {},
   "source": [
    "## Build and run simulation\n",
    "\n",
    "- `generator`: An optional variable for Windows user to choose the generator of CMake. If 'MSYS', then 'MSYS Makefiles' is used. If 'MinGW', then 'MinGW Makefiles' is used. The default value is 'Auto' and the generator is selected automatically. If sh.exe exists in your PATH, MSYS is choosed, and otherwise MinGW is used. \n",
    "- `remove_build_dir`: If `True`, the existing build directory is removed. If `False`, the build directory is not removed. Need to be set `True` if you change the generator. Default is `False`."
   ]
  },
  {
   "cell_type": "code",
   "execution_count": 15,
   "metadata": {},
   "outputs": [
    {
     "name": "stdout",
     "output_type": "stream",
     "text": [
      "build_options: -DCMAKE_BUILD_TYPE=Release -DVECTORIZE=ON -DBUILD_MAIN=ON -DBUILD_PYTHON_INTERFACE=OFF\n",
      "-- Configuring done\n",
      "-- Generating done\n",
      "-- Build files have been written to: /home/sotaro/src/autogenu-jupyter/generated/mobilerobot/build\n",
      "\n",
      "\n",
      "Scanning dependencies of target mobilerobot\n",
      "[ 50%] Building CXX object CMakeFiles/mobilerobot.dir/main.cpp.o\n",
      "[100%] Linking CXX executable mobilerobot\n",
      "[100%] Built target mobilerobot\n",
      "\n",
      "\n",
      "Start simulation\n",
      "End simulation\n",
      "Total CPU time for control update: 1417.97 [ms]\n",
      "sampling time: 1 [ms]\n",
      "CPU time for per control update: 0.141797 [ms]\n"
     ]
    }
   ],
   "source": [
    "generator = 'Auto'  \n",
    "remove_build_dir = False\n",
    "ag.build(generator, remove_build_dir)\n",
    "ag.run_simulation()"
   ]
  },
  {
   "cell_type": "markdown",
   "metadata": {},
   "source": [
    "## Plot the simulation results"
   ]
  },
  {
   "cell_type": "code",
   "execution_count": 16,
   "metadata": {},
   "outputs": [],
   "source": [
    "%matplotlib inline\n",
    "import autogenu.simulation_plottor as simplot"
   ]
  },
  {
   "cell_type": "code",
   "execution_count": 17,
   "metadata": {},
   "outputs": [
    {
     "name": "stderr",
     "output_type": "stream",
     "text": [
      "'created' timestamp seems very low; regarding as unix timestamp\n",
      "'modified' timestamp seems very low; regarding as unix timestamp\n",
      "'created' timestamp seems very low; regarding as unix timestamp\n",
      "'modified' timestamp seems very low; regarding as unix timestamp\n",
      "'created' timestamp seems very low; regarding as unix timestamp\n",
      "'modified' timestamp seems very low; regarding as unix timestamp\n"
     ]
    },
    {
     "name": "stdout",
     "output_type": "stream",
     "text": [
      "The graph of the simlation results is generated at generated/mobilerobot/simulation_result/mobilerobot.pdf\n",
      "\n"
     ]
    },
    {
     "data": {
      "image/png": "[encoded data removed]",
      "text/plain": [
       "<Figure size 720x432 with 6 Axes>"
      ]
     },
     "metadata": {},
     "output_type": "display_data"
    }
   ],
   "source": [
    "plot = simplot.SimulationPlottor(ocp_name)\n",
    "plot.set_scales(2,5,2)\n",
    "# plot.show_plots()\n",
    "plot.save_plots()"
   ]
  },
  {
   "cell_type": "markdown",
   "metadata": {},
   "source": [
    "## Draw animations of the simulation results"
   ]
  },
  {
   "cell_type": "code",
   "execution_count": 18,
   "metadata": {},
   "outputs": [],
   "source": [
    "import autogenu.animation_generator as animgen"
   ]
  },
  {
   "cell_type": "code",
   "execution_count": 19,
   "metadata": {},
   "outputs": [
    {
     "name": "stdout",
     "output_type": "stream",
     "text": [
      "The animation of the simlation results is generated at generated/mobilerobot/simulation_result/mobilerobot.mp4\n",
      "\n"
     ]
    },
    {
     "data": {
      "image/png": "[encoded data removed]",
      "text/plain": [
       "<Figure size 720x360 with 1 Axes>"
      ]
     },
     "metadata": {},
     "output_type": "display_data"
    }
   ],
   "source": [
    "vx_ref = 0.4\n",
    "X1, Y1, R1 = 1, 0.25, 0.5\n",
    "X2, Y2, R2 = 2, -0.25, 0.5\n",
    "\n",
    "anim = animgen.MobileRobot(ocp_name, vx_ref, X1, Y1, R1, X2, Y2, R2)\n",
    "anim.set_skip_frames(10)\n",
    "anim.generate_animation()"
   ]
  },
  {
   "cell_type": "markdown",
   "metadata": {},
   "source": [
    "## Build Python interface\n",
    "\n",
    "- `generator`: An optional variable for Windows user to choose the generator of CMake. If 'MSYS', then 'MSYS Makefiles' is used. If 'MinGW', then 'MinGW Makefiles' is used. The default value is 'Auto' and the generator is selected automatically. If sh.exe exists in your PATH, MSYS is choosed, and otherwise MinGW is used. \n",
    "- The python interfaces will be installed at `~/.local/lib/python3.x`. If you use MacOSX or Windows, add it to the Python PATH as \n",
    "```\n",
    "export PYTHONPATH=$PYTHONPATH:$HOME/.local/lib/python3.x/site-packages\n",
    "```\n",
    "where `python3.x` is your python version"
   ]
  },
  {
   "cell_type": "code",
   "execution_count": 25,
   "metadata": {},
   "outputs": [
    {
     "name": "stdout",
     "output_type": "stream",
     "text": [
      "build_options: -DCMAKE_BUILD_TYPE=Release -DVECTORIZE=ON -DBUILD_MAIN=OFF -DBUILD_PYTHON_INTERFACE=ON\n",
      "-- pybind11 v2.11.0 dev1\n",
      "-- pybind11 v2.11.0 dev1\n",
      "-- Configuring done\n",
      "-- Generating done\n",
      "-- Build files have been written to: /home/sotaro/src/autogenu-jupyter/generated/mobilerobot/build\n",
      "\n",
      "\n",
      "Scanning dependencies of target solver_settings\n",
      "Scanning dependencies of target horizon\n",
      "Scanning dependencies of target multiple_shooting_cgmres_solver\n",
      "[  8%] Building CXX object python/common/CMakeFiles/horizon.dir/horizon.cpp.o\n",
      "[ 16%] Building CXX object python/common/CMakeFiles/solver_settings.dir/solver_settings.cpp.o\n",
      "Scanning dependencies of target zero_horizon_ocp_solver\n",
      "Scanning dependencies of target single_shooting_cgmres_solver\n",
      "[ 25%] Building CXX object python/mobilerobot/CMakeFiles/multiple_shooting_cgmres_solver.dir/multiple_shooting_cgmres_solver.cpp.o\n",
      "Scanning dependencies of target ocp\n",
      "[ 41%] Building CXX object python/mobilerobot/CMakeFiles/zero_horizon_ocp_solver.dir/zero_horizon_ocp_solver.cpp.o\n",
      "[ 41%] Building CXX object python/mobilerobot/CMakeFiles/ocp.dir/ocp.cpp.o\n",
      "[ 50%] Building CXX object python/mobilerobot/CMakeFiles/single_shooting_cgmres_solver.dir/single_shooting_cgmres_solver.cpp.o\n",
      "In file included from /home/sotaro/src/autogenu-jupyter/generated/mobilerobot/python/mobilerobot/multiple_shooting_cgmres_solver.cpp:8:\n",
      "/home/sotaro/src/autogenu-jupyter/generated/mobilerobot/../../include/cgmres/python/multiple_shooting_cgmres_solver.hpp:1:78: warning: backslash-newline at end of file\n",
      "    1 | #define DEFINE_PYBIND11_MODULE_MULTIPLE_SHOOTING_CGMRES_SOLVER(OCP, N, KMAX) \\\n",
      "      |\n",
      "/home/sotaro/src/autogenu-jupyter/generated/mobilerobot/../../include/cgmres/python/multiple_shooting_cgmres_solver.hpp:5:52: warning: backslash and newline separated by space\n",
      "    5 |     .def(py::init<OCP, Horizon, SolverSettings>(), \\\n",
      "      |\n",
      "/home/sotaro/src/autogenu-jupyter/generated/mobilerobot/../../include/cgmres/python/multiple_shooting_cgmres_solver.hpp:7:24: warning: backslash and newline separated by space\n",
      "    7 |     .def(py::init<>()) \\\n",
      "      |\n",
      "/home/sotaro/src/autogenu-jupyter/generated/mobilerobot/../../include/cgmres/python/multiple_shooting_cgmres_solver.hpp:13:36: warning: backslash and newline separated by space\n",
      "   13 |         if (u.size() != OCP::nu) { \\\n",
      "      |\n",
      "/home/sotaro/src/autogenu-jupyter/generated/mobilerobot/../../include/cgmres/python/multiple_shooting_cgmres_solver.hpp:14:119: warning: backslash and newline separated by space\n",
      "   14 |           throw std::invalid_argument(\"[MultipleShootingCGMRESSolver]: 'u.size()' must be \"+std::to_string(OCP::nu)); \\\n",
      "      |\n",
      "/home/sotaro/src/autogenu-jupyter/generated/mobilerobot/../../include/cgmres/python/multiple_shooting_cgmres_solver.hpp:15:11: warning: backslash and newline separated by space\n",
      "   15 |         } \\\n",
      "      |\n",
      "/home/sotaro/src/autogenu-jupyter/generated/mobilerobot/../../include/cgmres/python/multiple_shooting_cgmres_solver.hpp:16:24: warning: backslash and newline separated by space\n",
      "   16 |         self.set_u(u); \\\n",
      "      |\n",
      "/home/sotaro/src/autogenu-jupyter/generated/mobilerobot/../../include/cgmres/python/multiple_shooting_cgmres_solver.hpp:19:38: warning: backslash and newline separated by space\n",
      "   19 |         if (uc.size() != OCP::nuc) { \\\n",
      "      |\n",
      "/home/sotaro/src/autogenu-jupyter/generated/mobilerobot/../../include/cgmres/python/multiple_shooting_cgmres_solver.hpp:20:121: warning: backslash and newline separated by space\n",
      "   20 |           throw std::invalid_argument(\"[MultipleShootingCGMRESSolver]: 'uc.size()' must be \"+std::to_string(OCP::nuc)); \\\n",
      "      |\n",
      "/home/sotaro/src/autogenu-jupyter/generated/mobilerobot/../../include/cgmres/python/multiple_shooting_cgmres_solver.hpp:21:11: warning: backslash and newline separated by space\n",
      "   21 |         } \\\n",
      "      |\n",
      "/home/sotaro/src/autogenu-jupyter/generated/mobilerobot/../../include/cgmres/python/multiple_shooting_cgmres_solver.hpp:22:26: warning: backslash and newline separated by space\n",
      "   22 |         self.set_uc(uc); \\\n",
      "      |\n",
      "/home/sotaro/src/autogenu-jupyter/generated/mobilerobot/../../include/cgmres/python/multiple_shooting_cgmres_solver.hpp:25:36: warning: backslash and newline separated by space\n",
      "   25 |         if (x.size() != OCP::nx) { \\\n",
      "      |\n",
      "/home/sotaro/src/autogenu-jupyter/generated/mobilerobot/../../include/cgmres/python/multiple_shooting_cgmres_solver.hpp:26:119: warning: backslash and newline separated by space\n",
      "   26 |           throw std::invalid_argument(\"[MultipleShootingCGMRESSolver]: 'x.size()' must be \"+std::to_string(OCP::nx)); \\\n",
      "      |\n",
      "/home/sotaro/src/autogenu-jupyter/generated/mobilerobot/../../include/cgmres/python/multiple_shooting_cgmres_solver.hpp:27:11: warning: backslash and newline separated by space\n",
      "   27 |         } \\\n",
      "      |\n",
      "/home/sotaro/src/autogenu-jupyter/generated/mobilerobot/../../include/cgmres/python/multiple_shooting_cgmres_solver.hpp:28:24: warning: backslash and newline separated by space\n",
      "   28 |         self.set_x(x); \\\n",
      "      |\n",
      "/home/sotaro/src/autogenu-jupyter/generated/mobilerobot/../../include/cgmres/python/multiple_shooting_cgmres_solver.hpp:31:38: warning: backslash and newline separated by space\n",
      "   31 |         if (lmd.size() != OCP::nx) { \\\n",
      "      |\n",
      "/home/sotaro/src/autogenu-jupyter/generated/mobilerobot/../../include/cgmres/python/multiple_shooting_cgmres_solver.hpp:32:121: warning: backslash and newline separated by space\n",
      "   32 |           throw std::invalid_argument(\"[MultipleShootingCGMRESSolver]: 'lmd.size()' must be \"+std::to_string(OCP::nx)); \\\n",
      "      |\n",
      "/home/sotaro/src/autogenu-jupyter/generated/mobilerobot/../../include/cgmres/python/multiple_shooting_cgmres_solver.hpp:33:11: warning: backslash and newline separated by space\n",
      "   33 |         } \\\n",
      "      |\n",
      "/home/sotaro/src/autogenu-jupyter/generated/mobilerobot/../../include/cgmres/python/multiple_shooting_cgmres_solver.hpp:34:28: warning: backslash and newline separated by space\n",
      "   34 |         self.set_lmd(lmd); \\\n",
      "      |\n",
      "/home/sotaro/src/autogenu-jupyter/generated/mobilerobot/../../include/cgmres/python/multiple_shooting_cgmres_solver.hpp:43:11: warning: backslash and newline separated by space\n",
      "   43 |         } \\\n",
      "      |\n",
      "In file included from /home/sotaro/src/autogenu-jupyter/generated/mobilerobot/python/mobilerobot/multiple_shooting_cgmres_solver.cpp:8:\n",
      "/home/sotaro/src/autogenu-jupyter/generated/mobilerobot/../../include/cgmres/python/multiple_shooting_cgmres_solver.hpp:50:11: warning: backslash and newline separated by space\n",
      "   50 |         } \\\n",
      "      |\n",
      "/home/sotaro/src/autogenu-jupyter/generated/mobilerobot/../../include/cgmres/python/multiple_shooting_cgmres_solver.hpp:56:11: warning: backslash and newline separated by space\n",
      "   56 |         } \\\n",
      "      |\n",
      "/home/sotaro/src/autogenu-jupyter/generated/mobilerobot/../../include/cgmres/python/multiple_shooting_cgmres_solver.hpp:61:21: warning: backslash and newline separated by space\n",
      "   61 |         ss << self; \\\n",
      "      |\n",
      "In file included from /home/sotaro/src/autogenu-jupyter/generated/mobilerobot/python/mobilerobot/zero_horizon_ocp_solver.cpp:8:\n",
      "/home/sotaro/src/autogenu-jupyter/generated/mobilerobot/../../include/cgmres/python/zero_horizon_ocp_solver.hpp:1:67: warning: backslash-newline at end of file\n",
      "    1 | #define DEFINE_PYBIND11_MODULE_ZERO_HORIZON_OCP_SOLVER(OCP, KMAX) \\\n",
      "      |\n",
      "/home/sotaro/src/autogenu-jupyter/generated/mobilerobot/../../include/cgmres/python/zero_horizon_ocp_solver.hpp:5:43: warning: backslash and newline separated by space\n",
      "    5 |     .def(py::init<OCP, SolverSettings>(), \\\n",
      "      |\n",
      "/home/sotaro/src/autogenu-jupyter/generated/mobilerobot/../../include/cgmres/python/zero_horizon_ocp_solver.hpp:7:24: warning: backslash and newline separated by space\n",
      "    7 |     .def(py::init<>()) \\\n",
      "      |\n",
      "/home/sotaro/src/autogenu-jupyter/generated/mobilerobot/../../include/cgmres/python/zero_horizon_ocp_solver.hpp:13:36: warning: backslash and newline separated by space\n",
      "   13 |         if (u.size() != OCP::nu) { \\\n",
      "      |\n",
      "/home/sotaro/src/autogenu-jupyter/generated/mobilerobot/../../include/cgmres/python/zero_horizon_ocp_solver.hpp:14:111: warning: backslash and newline separated by space\n",
      "   14 |           throw std::invalid_argument(\"[ZeroHorizonOCPSolver]: 'u.size()' must be \"+std::to_string(OCP::nu)); \\\n",
      "      |\n",
      "/home/sotaro/src/autogenu-jupyter/generated/mobilerobot/../../include/cgmres/python/zero_horizon_ocp_solver.hpp:15:11: warning: backslash and newline separated by space\n",
      "   15 |         } \\\n",
      "      |\n",
      "/home/sotaro/src/autogenu-jupyter/generated/mobilerobot/../../include/cgmres/python/zero_horizon_ocp_solver.hpp:16:24: warning: backslash and newline separated by space\n",
      "   16 |         self.set_u(u); \\\n",
      "      |\n",
      "/home/sotaro/src/autogenu-jupyter/generated/mobilerobot/../../include/cgmres/python/zero_horizon_ocp_solver.hpp:19:38: warning: backslash and newline separated by space\n",
      "   19 |         if (uc.size() != OCP::nuc) { \\\n",
      "      |\n",
      "/home/sotaro/src/autogenu-jupyter/generated/mobilerobot/../../include/cgmres/python/zero_horizon_ocp_solver.hpp:20:113: warning: backslash and newline separated by space\n",
      "   20 |           throw std::invalid_argument(\"[ZeroHorizonOCPSolver]: 'uc.size()' must be \"+std::to_string(OCP::nuc)); \\\n",
      "      |\n",
      "/home/sotaro/src/autogenu-jupyter/generated/mobilerobot/../../include/cgmres/python/zero_horizon_ocp_solver.hpp:21:11: warning: backslash and newline separated by space\n",
      "   21 |         } \\\n",
      "      |\n",
      "/home/sotaro/src/autogenu-jupyter/generated/mobilerobot/../../include/cgmres/python/zero_horizon_ocp_solver.hpp:22:26: warning: backslash and newline separated by space\n",
      "   22 |         self.set_uc(uc); \\\n",
      "      |\n",
      "/home/sotaro/src/autogenu-jupyter/generated/mobilerobot/../../include/cgmres/python/zero_horizon_ocp_solver.hpp:30:11: warning: backslash and newline separated by space\n",
      "   30 |         } \\\n",
      "      |\n",
      "/home/sotaro/src/autogenu-jupyter/generated/mobilerobot/../../include/cgmres/python/zero_horizon_ocp_solver.hpp:37:11: warning: backslash and newline separated by space\n",
      "   37 |         } \\\n",
      "      |\n",
      "/home/sotaro/src/autogenu-jupyter/generated/mobilerobot/../../include/cgmres/python/zero_horizon_ocp_solver.hpp:42:21: warning: backslash and newline separated by space\n",
      "   42 |         ss << self; \\\n",
      "      |\n",
      "In file included from /home/sotaro/src/autogenu-jupyter/generated/mobilerobot/python/mobilerobot/single_shooting_cgmres_solver.cpp:8:\n",
      "/home/sotaro/src/autogenu-jupyter/generated/mobilerobot/../../include/cgmres/python/single_shooting_cgmres_solver.hpp:1:76: warning: backslash-newline at end of file\n",
      "    1 | #define DEFINE_PYBIND11_MODULE_SINGLE_SHOOTING_CGMRES_SOLVER(OCP, N, KMAX) \\\n",
      "      |\n",
      "/home/sotaro/src/autogenu-jupyter/generated/mobilerobot/../../include/cgmres/python/single_shooting_cgmres_solver.hpp:5:52: warning: backslash and newline separated by space\n",
      "    5 |     .def(py::init<OCP, Horizon, SolverSettings>(), \\\n",
      "      |\n",
      "/home/sotaro/src/autogenu-jupyter/generated/mobilerobot/../../include/cgmres/python/single_shooting_cgmres_solver.hpp:7:24: warning: backslash and newline separated by space\n",
      "    7 |     .def(py::init<>()) \\\n",
      "      |\n",
      "/home/sotaro/src/autogenu-jupyter/generated/mobilerobot/../../include/cgmres/python/single_shooting_cgmres_solver.hpp:13:36: warning: backslash and newline separated by space\n",
      "   13 |         if (u.size() != OCP::nu) { \\\n",
      "      |\n",
      "/home/sotaro/src/autogenu-jupyter/generated/mobilerobot/../../include/cgmres/python/single_shooting_cgmres_solver.hpp:14:117: warning: backslash and newline separated by space\n",
      "   14 |           throw std::invalid_argument(\"[SingleShootingCGMRESSolver]: 'u.size()' must be \"+std::to_string(OCP::nu)); \\\n",
      "      |\n",
      "/home/sotaro/src/autogenu-jupyter/generated/mobilerobot/../../include/cgmres/python/single_shooting_cgmres_solver.hpp:15:11: warning: backslash and newline separated by space\n",
      "   15 |         } \\\n",
      "      |\n",
      "/home/sotaro/src/autogenu-jupyter/generated/mobilerobot/../../include/cgmres/python/single_shooting_cgmres_solver.hpp:16:24: warning: backslash and newline separated by space\n",
      "   16 |         self.set_u(u); \\\n",
      "      |\n",
      "/home/sotaro/src/autogenu-jupyter/generated/mobilerobot/../../include/cgmres/python/single_shooting_cgmres_solver.hpp:19:38: warning: backslash and newline separated by space\n",
      "   19 |         if (uc.size() != OCP::nuc) { \\\n",
      "      |\n",
      "/home/sotaro/src/autogenu-jupyter/generated/mobilerobot/../../include/cgmres/python/single_shooting_cgmres_solver.hpp:20:119: warning: backslash and newline separated by space\n",
      "   20 |           throw std::invalid_argument(\"[SingleShootingCGMRESSolver]: 'uc.size()' must be \"+std::to_string(OCP::nuc)); \\\n",
      "      |\n",
      "/home/sotaro/src/autogenu-jupyter/generated/mobilerobot/../../include/cgmres/python/single_shooting_cgmres_solver.hpp:21:11: warning: backslash and newline separated by space\n",
      "   21 |         } \\\n",
      "      |\n",
      "/home/sotaro/src/autogenu-jupyter/generated/mobilerobot/../../include/cgmres/python/single_shooting_cgmres_solver.hpp:22:26: warning: backslash and newline separated by space\n",
      "   22 |         self.set_uc(uc); \\\n",
      "      |\n",
      "/home/sotaro/src/autogenu-jupyter/generated/mobilerobot/../../include/cgmres/python/single_shooting_cgmres_solver.hpp:31:11: warning: backslash and newline separated by space\n",
      "   31 |         } \\\n",
      "      |\n",
      "/home/sotaro/src/autogenu-jupyter/generated/mobilerobot/../../include/cgmres/python/single_shooting_cgmres_solver.hpp:38:11: warning: backslash and newline separated by space\n",
      "   38 |         } \\\n",
      "      |\n",
      "/home/sotaro/src/autogenu-jupyter/generated/mobilerobot/../../include/cgmres/python/single_shooting_cgmres_solver.hpp:43:21: warning: backslash and newline separated by space\n",
      "   43 |         ss << self; \\\n",
      "      |\n",
      "In file included from /home/sotaro/src/autogenu-jupyter/generated/mobilerobot/python/common/solver_settings.cpp:8:\n",
      "/home/sotaro/src/autogenu-jupyter/generated/mobilerobot/../../include/cgmres/python/solver_settings.hpp:1:50: warning: backslash-newline at end of file\n",
      "    1 | #define DEFINE_PYBIND11_MODULE_SOLVER_SETTINGS() \\\n",
      "      |\n",
      "/home/sotaro/src/autogenu-jupyter/generated/mobilerobot/../../include/cgmres/python/solver_settings.hpp:17:21: warning: backslash and newline separated by space\n",
      "   17 |         ss << self; \\\n",
      "      |\n",
      "In file included from /home/sotaro/src/autogenu-jupyter/generated/mobilerobot/python/common/horizon.cpp:9:\n",
      "/home/sotaro/src/autogenu-jupyter/generated/mobilerobot/../../include/cgmres/python/horizon.hpp:1:42: warning: backslash-newline at end of file\n",
      "    1 | #define DEFINE_PYBIND11_MODULE_HORIZON() \\\n",
      "      |\n",
      "/home/sotaro/src/autogenu-jupyter/generated/mobilerobot/../../include/cgmres/python/horizon.hpp:6:24: warning: backslash and newline separated by space\n",
      "    6 |     .def(py::init<>()) \\\n",
      "      |\n",
      "/home/sotaro/src/autogenu-jupyter/generated/mobilerobot/../../include/cgmres/python/horizon.hpp:15:21: warning: backslash and newline separated by space\n",
      "   15 |         ss << self; \\\n",
      "      |\n",
      "[ 58%] Linking CXX shared library horizon.cpython-38-x86_64-linux-gnu.so\n",
      "[ 66%] Linking CXX shared library zero_horizon_ocp_solver.cpython-38-x86_64-linux-gnu.so\n",
      "[ 75%] Linking CXX shared library solver_settings.cpython-38-x86_64-linux-gnu.so\n",
      "[ 83%] Linking CXX shared library ocp.cpython-38-x86_64-linux-gnu.so\n",
      "[ 91%] Linking CXX shared library single_shooting_cgmres_solver.cpython-38-x86_64-linux-gnu.so\n",
      "[ 91%] Built target horizon\n",
      "[100%] Linking CXX shared library multiple_shooting_cgmres_solver.cpython-38-x86_64-linux-gnu.so\n",
      "[100%] Built target solver_settings\n",
      "[100%] Built target zero_horizon_ocp_solver\n",
      "[100%] Built target ocp\n",
      "[100%] Built target single_shooting_cgmres_solver\n",
      "[100%] Built target multiple_shooting_cgmres_solver\n",
      "\n",
      "\n"
     ]
    }
   ],
   "source": [
    "generator = 'Auto'  \n",
    "ag.generate_python_bindings()\n",
    "ag.build_python_interface(generator)"
   ]
  },
  {
   "cell_type": "markdown",
   "metadata": {},
   "source": [
    "## Install Python interface\n",
    "\n",
    "Sometimes CMake does not recognize the built python interfaces. \n",
    "Please re-run the following cells until CMake does so."
   ]
  },
  {
   "cell_type": "code",
   "execution_count": 28,
   "metadata": {},
   "outputs": [
    {
     "name": "stdout",
     "output_type": "stream",
     "text": [
      "-- Install configuration: \"Release\"\n",
      "-- Up-to-date: /home/sotaro/.local/lib/python3.8/site-packages/cgmres/common/__init__.py\n",
      "-- Up-to-date: /home/sotaro/.local/lib/python3.8/site-packages/cgmres/common/horizon.cpython-38-x86_64-linux-gnu.so\n",
      "-- Up-to-date: /home/sotaro/.local/lib/python3.8/site-packages/cgmres/common/solver_settings.cpython-38-x86_64-linux-gnu.so\n",
      "-- Up-to-date: /home/sotaro/.local/lib/python3.8/site-packages/cgmres/mobilerobot/__init__.py\n",
      "-- Up-to-date: /home/sotaro/.local/lib/python3.8/site-packages/cgmres/mobilerobot/multiple_shooting_cgmres_solver.cpython-38-x86_64-linux-gnu.so\n",
      "-- Up-to-date: /home/sotaro/.local/lib/python3.8/site-packages/cgmres/mobilerobot/ocp.cpython-38-x86_64-linux-gnu.so\n",
      "-- Up-to-date: /home/sotaro/.local/lib/python3.8/site-packages/cgmres/mobilerobot/single_shooting_cgmres_solver.cpython-38-x86_64-linux-gnu.so\n",
      "-- Up-to-date: /home/sotaro/.local/lib/python3.8/site-packages/cgmres/mobilerobot/zero_horizon_ocp_solver.cpython-38-x86_64-linux-gnu.so\n",
      "\n",
      "\n"
     ]
    }
   ],
   "source": [
    "ag.install_python_interface()"
   ]
  },
  {
   "cell_type": "markdown",
   "metadata": {},
   "source": [
    "The following code shows just an example of Python interface."
   ]
  },
  {
   "cell_type": "code",
   "execution_count": 1,
   "metadata": {},
   "outputs": [
    {
     "name": "stdout",
     "output_type": "stream",
     "text": [
      "Zero horizon OCP solver: \n",
      "  kmax: 8\n",
      "OCP_mobilerobot:\n",
      "  nx:  3\n",
      "  nu:  2\n",
      "  nc:  6\n",
      "  nuc: 8\n",
      "\n",
      "  vx_ref: 0.4\n",
      "  v_min: -0.5\n",
      "  v_max: 0.5\n",
      "  w_min: -0.75\n",
      "  w_max: 0.75\n",
      "  X_1: 1\n",
      "  Y_1: 0.25\n",
      "  R_1: 0.5\n",
      "  X_2: 2\n",
      "  Y_2: -0.25\n",
      "  R_2: 0.5\n",
      "\n",
      "  q:   10    1 0.01\n",
      "  r: 0.1 0.1\n",
      "  x_ref: 0 0 0\n",
      "  fb_eps:   0.01   0.01 0.0001 0.0001 0.0001 0.0001\n",
      "\n",
      "Soler settings: \n",
      "  max iter:                  100\n",
      "  opterr tol:                0.0001\n",
      "  finite difference epsilon: 1e-08\n",
      "  dt (sampling period):      0.001\n",
      "  zeta:                      1000\n",
      "  verbose level:             0\n",
      "Multiple shooting CGMRES solver: \n",
      "  N:    50\n",
      "  kmax: 15\n",
      "OCP_mobilerobot:\n",
      "  nx:  3\n",
      "  nu:  2\n",
      "  nc:  6\n",
      "  nuc: 8\n",
      "\n",
      "  vx_ref: 0.4\n",
      "  v_min: -0.5\n",
      "  v_max: 0.5\n",
      "  w_min: -0.75\n",
      "  w_max: 0.75\n",
      "  X_1: 1\n",
      "  Y_1: 0.25\n",
      "  R_1: 0.5\n",
      "  X_2: 2\n",
      "  Y_2: -0.25\n",
      "  R_2: 0.5\n",
      "\n",
      "  q:   10    1 0.01\n",
      "  r: 0.1 0.1\n",
      "  x_ref: 0 0 0\n",
      "  fb_eps:   0.01   0.01 0.0001 0.0001 0.0001 0.0001\n",
      "\n",
      "Horizon: time-varying length\n",
      "  Tf:    1\n",
      "  alpha: 1\n",
      "  t0:    0\n",
      "Soler settings: \n",
      "  max iter:                  100\n",
      "  opterr tol:                0.0001\n",
      "  finite difference epsilon: 1e-08\n",
      "  dt (sampling period):      0.001\n",
      "  zeta:                      1000\n",
      "  verbose level:             0\n"
     ]
    }
   ],
   "source": [
    "import cgmres.mobilerobot\n",
    "import cgmres.common\n",
    "import numpy as np\n",
    "\n",
    "horizon = cgmres.common.Horizon(Tf=1.0, alpha=1.0)\n",
    "ocp = cgmres.mobilerobot.OCP()\n",
    "settings = cgmres.common.SolverSettings()\n",
    "settings.dt = 0.001\n",
    "\n",
    "t0 = 0.0\n",
    "x0 = np.zeros(ocp.nx())\n",
    "\n",
    "# Initialize solution using zero horizon OCP solution\n",
    "initializer = cgmres.mobilerobot.ZeroHorizonOCPSolver(ocp, settings)\n",
    "# uc0 = np.array([0.01, 10.0, 0.01])\n",
    "# initializer.set_uc(uc0)\n",
    "# initializer.solve(t0, x0)\n",
    "# print(initializer)\n",
    "\n",
    "# Create MPC solver and set the initial solution \n",
    "mpc = cgmres.mobilerobot.MultipleShootingCGMRESSolver(ocp, horizon, settings)\n",
    "# mpc.set_uc(initializer.ucopt())\n",
    "# mpc.set_lmd(initializer.lmdopt())\n",
    "# mpc.set_x(x0)\n",
    "print(mpc)\n",
    "\n",
    "# update MPC solution based on the input time and state\n",
    "mpc.update(t0, x0)\n",
    "\n",
    "# get the optimal control input and state sequence  \n",
    "uopt = mpc.uopt()\n",
    "xopt = mpc.xopt()"
   ]
  },
  {
   "cell_type": "code",
   "execution_count": null,
   "metadata": {},
   "outputs": [],
   "source": []
  }
 ],
 "metadata": {
  "kernelspec": {
   "display_name": "Python 3",
   "language": "python",
   "name": "python3"
  },
  "language_info": {
   "codemirror_mode": {
    "name": "ipython",
    "version": 3
   },
   "file_extension": ".py",
   "mimetype": "text/x-python",
   "name": "python",
   "nbconvert_exporter": "python",
   "pygments_lexer": "ipython3",
   "version": "3.8.10"
  },
  "toc": {
   "base_numbering": 1,
   "nav_menu": {},
   "number_sections": true,
   "sideBar": true,
   "skip_h1_title": false,
   "title_cell": "Table of Contents",
   "title_sidebar": "Contents",
   "toc_cell": false,
   "toc_position": {},
   "toc_section_display": true,
   "toc_window_display": false
  },
  "vscode": {
   "interpreter": {
    "hash": "916dbcbb3f70747c44a77c7bcd40155683ae19c65e1c03b4aa3499c5328201f1"
   }
  }
 },
 "nbformat": 4,
 "nbformat_minor": 4
}
