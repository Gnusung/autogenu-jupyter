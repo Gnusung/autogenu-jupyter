{
 "cells": [
  {
   "cell_type": "markdown",
   "metadata": {},
   "source": [
    "# AutoGenU for Jupyter\n",
    "\n",
    "An Automatic C++ Code Generator for Nonlinear Model Predictive Control (NMPC)  \n",
    "\n",
    "---  "
   ]
  },
  {
   "cell_type": "markdown",
   "metadata": {},
   "source": [
    "## Formulation of the optimal control problem: Mobile robot"
   ]
  },
  {
   "cell_type": "markdown",
   "metadata": {},
   "source": [
    "### Model description\n",
    "<img src=\"https://raw.github.com/wiki/mayataka/CGMRES/images/fig_mobilerobot.png\" width=40%>\n",
    "\n",
    "The above figure shows the model of a mobile robot. The kinematics of the robot is given by\n",
    "$$ \\dot{X} = V \\cos{\\theta}, $$\n",
    "$$ \\dot{Y} = V \\sin{\\theta}. $$\n",
    "Physical limitations of the robot are given by\n",
    "$$ V_{\\rm min} \\leq V \\leq V_{\\rm max}, $$\n",
    "$$ w_{\\rm min} \\leq \\dot{\\theta} \\leq w_{\\rm max}. $$\n",
    "\n",
    "### Control Objective\n",
    "We consider tracjectory tracking problem. We set the reference trajectory as \n",
    "$$ x_{\\rm ref} (t) = \\begin{bmatrix} t v_{\\rm ref} \\\\ 0 \\end{bmatrix} .$$\n",
    "We also assume that there are two circular obstacles to be avoided whose center and radius are $(X_1, Y_1)$, $R_1$ and $(X_2, Y_2)$, $R_2$, respectively.\n",
    "\n",
    "### Formulation of the optimal control problem\n",
    "We define the state vector as\n",
    "$$ x = \\begin{bmatrix} X \\\\ Y \\\\ \\theta \\end{bmatrix} .$$\n",
    "We assume that $V=u_1$ and $\\theta = u_2$. The state equation is then given as \n",
    "$$ \\dot{x} = f(t, x, u) = \\begin{bmatrix} u_1 \\cos{\\theta} \\\\ u_1 \\sin{\\theta} \\\\ u_2 \\end{bmatrix} $$\n",
    "\n",
    "Next, we set the cost function \n",
    "$$ J = \\varphi(t, x) + \\int_{t}^{t+T} L(t, x, u) .$$\n",
    "To achieve the aforementioned goal, we set the terminal cost as\n",
    "$$\\varphi(t,x) = \\frac{1}{2} q_1 (x_1 - t v_{\\rm ref})^2 + \\frac{1}{2} q_2 x_2 ^2 + \\frac{1}{2} q_3 x_3 ^2 $$  \n",
    "and the stage cost as \n",
    "$$ L(t, x, u) = \\frac{1}{2} q_1 (x_1 - t v_{\\rm ref})^2 + \\frac{1}{2} q_2 x_2 ^2 + \\frac{1}{2} q_3 x_3 ^2 + \\frac{1}{2} r_1 (u_1 \\cos{x_3} - v_{\\rm ref})^2 + \\frac{1}{2} r_2 u_2 ^2 $$  \n",
    "where $q_1, q_2, q_3$, $r_1, r_2$ are positive real constant.\n",
    "From the physical limitations and the obstacles, there are 6 inequality constraints \n",
    "$$\n",
    "h(x, u) = \\begin{bmatrix} R_1 ^2 - (x_1 - X_1)^2 - (x_2 - Y_1)^2 \\\\\n",
    "                          R_2 ^2 - (x_1 - X_2)^2 - (x_2 - Y_2)^2 \\\\\n",
    "                          v_{\\rm min} - u_1 \\\\\n",
    "                          u_1 - v_{\\rm max} \\\\ \n",
    "                          w_{\\rm min} - u_2 \\\\ \n",
    "                          u_2 - w_{\\rm max} \n",
    "                          \\end{bmatrix} \\leq 0\n",
    "$$\n",
    "In this example, these inequality constraints are considered by the semi-smooth Fischer-Burmeister method.\n",
    "In the optimization problem, the complementary conditions are imposed for inequality constraints, e.g., for $g(x, u) \\in \\mathbb{R}$,\n",
    "$$\n",
    "    g(x, u) \\leq 0 ,\n",
    "$$\n",
    "$$\n",
    "    \\nu \\geq 0 ,\n",
    "$$\n",
    "$$\n",
    "    \\nu g(x, u) = 0 .\n",
    "$$\n",
    "The semi-smooth Fischer-Burmeister method transforms these conditions into\n",
    "$$\n",
    "    \\Phi(\\nu, - g(x, u)) = 0, \\;\\; \\Phi(a, b) = \\sqrt{a^2 + b^2 + \\epsilon ^2} - (a + b) .\n",
    "$$\n",
    "where $\\epsilon > 0$ is a regularization term. \n",
    "After all, in the optimal control problem, we find the solution satisfying the following conditions\n",
    "$$\n",
    "    \\left( \\frac{\\partial H}{\\partial u} \\right)^{\\rm T} = \\left( \\frac{\\partial L}{\\partial u} \\right)^{\\rm T} + \\left( \\frac{\\partial f}{\\partial u} \\right)^{\\rm T} \\lambda + \\left( \\frac{\\partial h}{\\partial u} \\right)^{\\rm T} \\nu,\n",
    "$$\n",
    "$$\n",
    "    \\Phi(\\nu_i, - h_i(x, u)) = 0 ,\n",
    "$$\n",
    "where $\\lambda$ and $\\nu$ are the Lagrange multipliers and the latter condition is imposed on elementwise.\n",
    "\n",
    "### References \n",
    "For more details about the semi-smooth Fischer-Burmeister method in the optimal control problem, especially with the C/GMRES method, see the following references.\n",
    "- [M. Huang, et. al, Nonlinear Model Predictive Control of a Diesel Engine Air Path: A Comparison of Constraint Handling and Computational Strategies, IFAC-PapersOnLine, Vol. 48, No. 23, pp. 372-379 (2015)](https://doi.org/10.1016/j.ifacol.2015.11.308)\n",
    "- [M. Huang, Low Complexity Model Predictive Control of a Diesel Engine Airpath, Ph. D. diss., University of Michigan (2016)](https://deepblue.lib.umich.edu/handle/2027.42/120832)\n",
    "- [S. Alamdari, S. Amin, Stochastic Model Predictive Control for Eco-Driving Assistance Systems in Electric Vehicles, Ph. D. diss., University of Luxembourg (2018)](http://orbilu.uni.lu/handle/10993/36164)\n",
    "- [D. Liao-McPherson, M. Huang and I. Kolmanovsky, A Regularized and Smoothed Fischer–Burmeister Method for Quadratic Programming With Applications to Model Predictive Control, IEEE Transactions on Automatic Control, Vol. 64, No. 7, pp. 2937-2944 (2019)](https://doi.org/10.1109/TAC.2018.2872201)\n",
    "\n",
    "### Numerical solver of NMPC\n",
    "In the following example, we compute the solution of NMPC using the multiple-shooting-based C/GMRES method."
   ]
  },
  {
   "cell_type": "markdown",
   "metadata": {},
   "source": [
    "---\n",
    "\n",
    "# Generate C++ codes of NMPC model  "
   ]
  },
  {
   "cell_type": "markdown",
   "metadata": {},
   "source": [
    "## Import modules"
   ]
  },
  {
   "cell_type": "code",
   "execution_count": null,
   "metadata": {},
   "outputs": [],
   "source": [
    "from sympy import *\n",
    "from autogenu import symbolic_functions as symfunc\n",
    "from autogenu import cpp_generator as gencpp"
   ]
  },
  {
   "cell_type": "markdown",
   "metadata": {},
   "source": [
    "## Set dimensions\n",
    "`dimx`: Dimension of the state vector $x$   \n",
    "`dimu`: Dimension of the control input vector $u$  \n",
    "`dimc`: Dimension of the equality constraints $C(x, u) = 0$  \n",
    "`dimh`: Dimension of the inequality constraints $h(x, u) \\leq 0$ considered using the semi-smooth Fischer-Burmeister method"
   ]
  },
  {
   "cell_type": "code",
   "execution_count": null,
   "metadata": {},
   "outputs": [],
   "source": [
    "dimx = 3\n",
    "dimu = 2\n",
    "dimc = 0\n",
    "dimh = 6"
   ]
  },
  {
   "cell_type": "markdown",
   "metadata": {},
   "source": [
    "## Generate t, x, u, and lmd, necessary variables for the formulation of the optimal control problem\n",
    "`t`: Time parameter $t$  \n",
    "`x`: The state vector $x$  \n",
    "`u`: The control input vector $u$  \n",
    "`lmd`: The Lagrange multiplier for the state equation $\\lambda$"
   ]
  },
  {
   "cell_type": "code",
   "execution_count": null,
   "metadata": {},
   "outputs": [],
   "source": [
    "t = Symbol('t')  \n",
    "x = symbols('x[0:%d]' %(dimx))  \n",
    "u = symbols('u[0:%d]' %(dimu+dimc+dimh))\n",
    "lmd = symbols('lmd[0:%d]' %(dimx))"
   ]
  },
  {
   "cell_type": "markdown",
   "metadata": {},
   "source": [
    "## Define variables used in the state equation, constraints, and cost function\n",
    "- Define a scalar variable whose name is \"var\" as  \n",
    "`var = Symbol('var') `\n",
    "\n",
    "- Define scalar variables whose names are \"var\\_1\", \"var\\_2\", ..., \"var\\_n\" as  \n",
    "`var_1, var_2, ..., var_n = symbols('var_1, var_2, ..., var_n')`\n",
    "\n",
    "- Define a vector whose name is \"vec\" and dimension is dim_vec as  \n",
    "`vec = symbols(f'vec[0:{dim_vec}]')`"
   ]
  },
  {
   "cell_type": "code",
   "execution_count": null,
   "metadata": {},
   "outputs": [],
   "source": [
    "# Define user variables used in the state function here\n",
    "vx_ref = Symbol('vx_ref')\n",
    "v_min, v_max = symbols('v_min, v_max')\n",
    "w_min, w_max = symbols('w_min, w_max')\n",
    "X_1, Y_1, R_1 = symbols('X_1, Y_1, R_1')\n",
    "X_2, Y_2, R_2 = symbols('X_2, Y_2, R_2')\n",
    "xx_ref = vx_ref * t"
   ]
  },
  {
   "cell_type": "markdown",
   "metadata": {},
   "source": [
    "## Define weight parameters used in the stage cost and the terminal cost\n",
    "`q`: The weight array for the state in the stage cost  \n",
    "`r`: The weight array for the control input in the stage cost  \n",
    "`q_terminal`: The weight array for the state in the terminal cost  \n",
    "`x_ref`: The reference value of the state  \n",
    "`fb_eps`: The regularization term for the semi-smooth Fischer-Burmeister method"
   ]
  },
  {
   "cell_type": "code",
   "execution_count": null,
   "metadata": {},
   "outputs": [],
   "source": [
    "q = symbols('q[0:%d]' %(dimx))\n",
    "r = symbols('r[0:%d]' %(dimu+dimc))\n",
    "q_terminal = symbols('q_terminal[0:%d]' %(dimx))\n",
    "x_ref = symbols('x_ref[0:%d]' %(dimx))\n",
    "fb_eps = symbols('fb_eps[0:%d]' %(dimh))"
   ]
  },
  {
   "cell_type": "markdown",
   "metadata": {},
   "source": [
    "## Define the state equation, constraints, the stage cost, and the terminal cost\n",
    "`fxu`: The state equation $ f(t, x, u)$  \n",
    "`Cxu`: The equality constraisnts $C(t, x, u) = 0 $  \n",
    "`hxu`: The inequality constraisnts $h(t, x, u) \\leq 0$  \n",
    "`L`: The stage cost $L(t, x, u)$  \n",
    "`phi`: The terminal cost $\\phi (t, x)$  \n",
    "Note: array indices start with 0"
   ]
  },
  {
   "cell_type": "code",
   "execution_count": null,
   "metadata": {},
   "outputs": [],
   "source": [
    "# Define the state equation\n",
    "fxu = [u[0] * cos(x[2]),\n",
    "       u[0] * sin(x[2]),\n",
    "       u[1]]\n",
    "    \n",
    "# Define the equality constraints C(x, u) = 0 (if dimc > 0)\n",
    "Cxu = []\n",
    "\n",
    "# Define the inequality constraints h(x, u) <= 0 (if dimh > 0) considered using the semi-smooth Fischer-Burmeister method\n",
    "hxu = [R_1**2 - (x[0]-X_1)**2 - (x[1]-Y_1)**2,\n",
    "       R_2**2 - (x[0]-X_2)**2 - (x[1]-Y_2)**2,\n",
    "       v_min - u[0],\n",
    "       u[0] - v_max,\n",
    "       w_min - u[1],\n",
    "       u[1] - w_max]\n",
    "\n",
    "# Define the stage cost\n",
    "L = (q[0]*(x[0]-xx_ref)**2 + q[1]*x[1]**2 + q[2]*x[2]**2) / 2 + (r[0]*(u[0]*cos(x[2])-vx_ref)**2 + r[1]*u[1]**2) / 2\n",
    "\n",
    "# Define the terminal cost\n",
    "phi = (q[0]*(x[0]-xx_ref)**2 + q[1]*x[1]**2 + q[2]*x[2]**2)/2 "
   ]
  },
  {
   "cell_type": "markdown",
   "metadata": {},
   "source": [
    "## Generate the optimality conditions\n",
    "`Hamiltonian`: $H(t, x, u, \\lambda, \\mu, \\nu) := L(t, x, u) + \\lambda^{\\rm T} f(t, x, u) + \\mu^{\\rm T} C(x, u) + \\nu^{\\rm T} h(x, u) $  \n",
    "`hx`: The partial derivartive of the Hamiltonian $H (t, x, u, \\lambda, \\mu, \\nu)$ with respect to $x$, i.e., $\\left(\\frac{\\partial H}{\\partial x} \\right)^{\\rm T} (t, x, u, \\lambda, \\mu, \\nu)$    \n",
    "`hu`: The partial derivartive of the Hamiltonian $H (t, x, u, \\lambda, \\mu, \\nu)$ with respect to $(u, \\mu, \\nu)$, i.e., $\\left(\\frac{\\partial H}{\\partial (u, \\mu, \\nu)} \\right)^{\\rm T}, (t, x, u, \\lambda, \\mu, \\nu)$. Note that the last `dimh` elements are composed by $\\Phi_{\\epsilon} (\\nu_i, -h_i(x,u))$ where $\\Phi_{\\epsilon} (a, b) = \\sqrt{a^2 + b^2 + \\epsilon} - (a+b)$  \n",
    "`phix`: The partial derivative of the terminal cost $\\phi(x)$ with respect to $x$, i.e., $\\left(\\frac{\\partial \\phi}{\\partial x} \\right)^{\\rm T} (t, x)$"
   ]
  },
  {
   "cell_type": "code",
   "execution_count": null,
   "metadata": {},
   "outputs": [],
   "source": [
    "Hamiltonian = L + symfunc.dot_product(lmd, fxu) + sum(u[dimu+i] * Cxu[i] for i in range(dimc)) + sum(u[dimu+dimc+i] * hxu[i] for i in range(dimh))\n",
    "phix = symfunc.diff_scalar_func(phi, x)\n",
    "hx = symfunc.diff_scalar_func(Hamiltonian, x)\n",
    "hu = symfunc.diff_scalar_func(Hamiltonian, u)\n",
    "for i in range(dimh):\n",
    "    hu[dimu+dimc+i] = sqrt(u[dimu+dimc+i]**2 + hxu[i]**2 + fb_eps[i]) - (u[dimu+dimc+i] - hxu[i])"
   ]
  },
  {
   "cell_type": "markdown",
   "metadata": {},
   "source": [
    "## Symplify phix, hx, and hu\n",
    "Note: if `hx` and `hu` is too complicated, it takes too much time to simplify them"
   ]
  },
  {
   "cell_type": "code",
   "execution_count": null,
   "metadata": {},
   "outputs": [],
   "source": [
    "phix = simplify(phix)\n",
    "hx = simplify(hx)\n",
    "hu = simplify(hu)"
   ]
  },
  {
   "cell_type": "markdown",
   "metadata": {},
   "source": [
    "## Set Parameters\n",
    "Set all parameters used in the state equation, constraints, and the cost function"
   ]
  },
  {
   "cell_type": "code",
   "execution_count": null,
   "metadata": {},
   "outputs": [],
   "source": [
    "scalar_parameters = [[vx_ref, 0.4], \n",
    "                     [X_1, 1], [Y_1, 0.25], [R_1, 0.5],\n",
    "                     [X_2, 2], [Y_2, -0.25], [R_2, 0.5],\n",
    "                     [v_min, -0.5], [v_max, 0.5],\n",
    "                     [w_min, -0.75], [w_max, 0.75]]\n",
    "\n",
    "array_parameters = [['q', dimx, '{10, 1, 0.01}'], \n",
    "                    ['r', dimu, '{0.1, 0.1}'], \n",
    "                    ['q_terminal', dimx, '{10, 1, 0.1}'], \n",
    "                    ['x_ref', dimx, '{0, 0, 0}'],\n",
    "                    ['fb_eps', dimh, '{0.01, 0.01, 0.0, 0.0, 0.0, 0.0}']]"
   ]
  },
  {
   "cell_type": "markdown",
   "metadata": {},
   "source": [
    "## Generate C++ codes of NMPC model\n",
    "Generate `nmpc_model.hpp` and `nmpc_model.cpp`, C++ source files of NMPC problem settings.  \n",
    "\n",
    "`model_name`: Name of the directory where `nmpc_model.hpp` and `nmpc_model.cpp` are generated.  \n",
    "`cse_flag`: The flag for common subexpression elimination. If `True`, common subexpressions in fxu, phix, hx, and hu are eliminated when `nmpc_model.cpp` is generated. Default is `Flase`. If the symbolic functions are too complicated, it may take time."
   ]
  },
  {
   "cell_type": "code",
   "execution_count": null,
   "metadata": {},
   "outputs": [],
   "source": [
    "model_name = \"mobilerobot\"\n",
    "cse_flag = True\n",
    "\n",
    "gencpp.make_model_dir(model_name)\n",
    "gencpp.generate_cpp(fxu, phix, hx, hu, model_name, cse_flag)\n",
    "gencpp.generate_hpp(dimx, dimu, dimc+dimh, scalar_parameters, array_parameters, model_name)"
   ]
  },
  {
   "cell_type": "markdown",
   "metadata": {},
   "source": [
    "---  \n",
    "# Generate C++ codes for numerical simulation  "
   ]
  },
  {
   "cell_type": "markdown",
   "metadata": {},
   "source": [
    "## Import modules"
   ]
  },
  {
   "cell_type": "code",
   "execution_count": null,
   "metadata": {},
   "outputs": [],
   "source": [
    "from autogenu import solver_parameters as slvprm\n",
    "from autogenu import initialization_parameters as iniprm\n",
    "from autogenu import simulation_parameters as simprm\n",
    "from autogenu import cpp_executor as cppexe\n",
    "from autogenu import simulation_plottor as simplt\n",
    "from autogenu import animation_generator as animgen\n",
    "init_printing()"
   ]
  },
  {
   "cell_type": "markdown",
   "metadata": {},
   "source": [
    "## Set solvers  \n",
    "set which solvers you use  in `solver_index`\n",
    "  \n",
    "1.  `ContinuationGMRES` : The continuation/GMRES method (the original C/GMRES method, single shooting).\n",
    "2.  `MultipleShootingCGMRES` : The multiple shooting based C/GMRES method with condensing of the state and the Lagragne multipliers with respect to the state equation.\n",
    "3.  `MSCGMRESWithInputSaturation` : The multiple shooting based C/GMRES method with condensing of the state, the Lagragne multipliers with respect to the state equation, and variables with respect to the constraints on the saturation function on the control input."
   ]
  },
  {
   "cell_type": "code",
   "execution_count": null,
   "metadata": {},
   "outputs": [],
   "source": [
    "solver_index = 2"
   ]
  },
  {
   "cell_type": "markdown",
   "metadata": {},
   "source": [
    "## Set saturaions on the control input if you choose `solver_index = 3`\n",
    "- Saturation on the control input: $u_{i, {\\rm min}} \\leq u_i \\leq u_{i, {\\rm max}}$  \n",
    "$u_i \\in \\mathbb{R}$ : a constrained component of the control input $u$  \n",
    "- Transformed equality constraint: $(u_i - \\frac{u_{i, {\\rm max}} + u_{i, {\\rm min}}}{2})^2 - ( \\frac{u_{i, {\\rm max}} - u_{i, {\\rm min}}}{2})^2 + {u_d}_i ^2 = 0$  \n",
    "${u_d}_i \\in \\mathbb{R}$ : a dummy input for the transformation of the saturation into the equality constraint  \n",
    "- Additional term in the stage cost $L(x, u)$ with respect to the saturation of $u_i$: $- {r_d}_i {u_d}_i + \\frac{1}{2} {r_q}_i {u_d}_i ^2$  \n",
    "   ${r_d}_i > 0$: a weight parameter to avoid failure of numerical computation, ${r_q}_i \\geq 0$: a weight parameter to increase mergin of the saturation  \n",
    "\n",
    "`index`: $i$  \n",
    "`u_min`: $u_{i, {\\rm min}}$  \n",
    "`u_max`: $u_{i, {\\rm max}}$   \n",
    "`dummy_weight`: ${r_d}_i > 0$  \n",
    "`quadratic_weight` :  ${r_q}_i \\geq 0$  \n",
    "`saturation_param` = [`index`, `u_min`, `u_max`, `dummy_weight`, `quadratic_weight`]"
   ]
  },
  {
   "cell_type": "code",
   "execution_count": null,
   "metadata": {},
   "outputs": [],
   "source": [
    "saturation_list = []\n",
    "# Define saturation_list as follows.\n",
    "# saturation_list = [[index , u_min, u_max, dummy_weight, quadratic_weight], \n",
    "#                    [index , u_min, u_max, dummy_weight, quadratic_weight], \n",
    "#                    .., \n",
    "#                    [index , u_min, u_max, dummy_weight, quadratic_weight]"
   ]
  },
  {
   "cell_type": "markdown",
   "metadata": {},
   "source": [
    "## Set parameters for the solver\n",
    "\n",
    "`T_f`, `alpha`: Parameters for the length of the horizon $T(t)$: $T(t) = T_f (1 - e^{-\\alpha t})$.  \n",
    "`N`: The division number of the horzion for the numerical computation.  \n",
    "`finite_difference_increment`: Step length of a finite difference approximations of hessian-vector products in C/GMRES.   \n",
    "`zeta`: A stabilization parameter of the C/GMRES method. It may work well to set `zeta` by the reciprocal of the sampling time.  \n",
    "`kmax`: The maximam number of the iteration of the GMRES."
   ]
  },
  {
   "cell_type": "code",
   "execution_count": null,
   "metadata": {
    "code_folding": []
   },
   "outputs": [],
   "source": [
    "T_f = 1.5\n",
    "alpha = 1.0\n",
    "N = 50\n",
    "finite_difference_increment = 1.0e-08\n",
    "zeta = 1000  # zeta must be the reciprocal of the sampling period\n",
    "kmax = 15\n",
    "\n",
    "solver_parameters = slvprm.SolverParameters(T_f, alpha, N, finite_difference_increment, zeta, kmax)"
   ]
  },
  {
   "cell_type": "markdown",
   "metadata": {},
   "source": [
    "## Set parameters for the initialization of the solution  \n",
    "`initial_guess_solution`: The initial guess of the solution of the optimal control problem (OCP) for initialization of the solution of NMPC.   \n",
    "`newton_residual_torelance`: The residual torelance of the solution of the OCP for the initialization of the solution of NMPC. The Newton iteration terminates when the optimality error is less than this velue.  \n",
    "`max_newton_iteration`: The maxmum number of Newton iteration for the initialization of the solution of NMPC.  \n",
    "`initial_Lagrange_multiplier`: An optional parameter for `MSCGMRESWithInputSaturation`. This is a part of the initial guess of the solution, the initial guess of the Lagrange multiplier with respect the constraints on the saturation function of the control input. NOTE that this parameter has to be defined as list. If you do not specify this parameter, the all of initial Lagrange multiplier are set by 1e-03."
   ]
  },
  {
   "cell_type": "code",
   "execution_count": null,
   "metadata": {},
   "outputs": [],
   "source": [
    "initial_guess_solution = [0.1, 0.1, 0.1, 0.1, 0.1, 0.1]\n",
    "newton_residual_torelance = 1.0e-06\n",
    "max_newton_iteration = 50\n",
    "\n",
    "if solver_index == 1 or solver_index == 2:\n",
    "    initialization_parameters = iniprm.InitializationParameters(initial_guess_solution, \n",
    "                                                                newton_residual_torelance, \n",
    "                                                                max_newton_iteration)\n",
    "else:\n",
    "    initialization_parameters = iniprm.InitializationParameters(initial_guess_solution, \n",
    "                                                                newton_residual_torelance, \n",
    "                                                                max_newton_iteration, \n",
    "                                                                Lagrange_multiplier)"
   ]
  },
  {
   "cell_type": "markdown",
   "metadata": {},
   "source": [
    "## Set parameters for numerical simulation\n",
    "`initial_time`: Initial time of the numerical simulation.  \n",
    "`initial_state`: Initial state vector of the system.  \n",
    "`simulation_time`: Simulation time of the numerical simulation.  \n",
    "`sampling_time`: The sampling time of the numerical simulation."
   ]
  },
  {
   "cell_type": "code",
   "execution_count": null,
   "metadata": {},
   "outputs": [],
   "source": [
    "initial_time = 0  \n",
    "initial_state = [0, 0, 0]  \n",
    "simulation_time = 10 \n",
    "sampling_time = 0.001  \n",
    "\n",
    "simulation_parameters = simprm.SimulationParameters(initial_time, \n",
    "                                                    initial_state, \n",
    "                                                    simulation_time, \n",
    "                                                    sampling_time)"
   ]
  },
  {
   "cell_type": "markdown",
   "metadata": {},
   "source": [
    "## Generate main.cpp and CMakeLists.txt"
   ]
  },
  {
   "cell_type": "code",
   "execution_count": null,
   "metadata": {
    "scrolled": true
   },
   "outputs": [],
   "source": [
    "if solver_index == 1 or solver_index == 2:\n",
    "    gencpp.generate_main(solver_index, \n",
    "                         solver_parameters, \n",
    "                         initialization_parameters, \n",
    "                         simulation_parameters, \n",
    "                         model_name)\n",
    "else:\n",
    "    gencpp.generate_main(solver_index, \n",
    "                         solver_parameters, \n",
    "                         initialization_parameters, \n",
    "                         simulation_parameters, \n",
    "                         model_name, \n",
    "                         saturation_list)    \n",
    "\n",
    "gencpp.generate_cmake(solver_index, model_name)\n",
    "gencpp.generate_cmake_for_model(model_name)"
   ]
  },
  {
   "cell_type": "markdown",
   "metadata": {},
   "source": [
    "## Build and run simulation\n",
    "NOTE: If you use Windows OS and an error occurs in `cppexec.setCMake(model_name)`, you may solve that error by running codes which are commented out instead of the original codes."
   ]
  },
  {
   "cell_type": "code",
   "execution_count": null,
   "metadata": {},
   "outputs": [],
   "source": [
    "cppexe.set_cmake(model_name)\n",
    "cppexe.make_and_run(model_name)\n",
    "# cppexe.remove_build_dir(model_name)\n",
    "# cppexe.set_cmake(model_name, MSYS=True)\n",
    "# cppexe.make_and_run(model_name)"
   ]
  },
  {
   "cell_type": "markdown",
   "metadata": {},
   "source": [
    "## Plot the simulation results"
   ]
  },
  {
   "cell_type": "code",
   "execution_count": null,
   "metadata": {},
   "outputs": [],
   "source": [
    "plot = simplt.SimulationPlottor(model_name)\n",
    "plot.set_scales(2,5,2)\n",
    "# plot.show_plots()\n",
    "plot.save_plots()"
   ]
  },
  {
   "cell_type": "markdown",
   "metadata": {},
   "source": [
    "## Draw an animation of the simulation results"
   ]
  },
  {
   "cell_type": "code",
   "execution_count": null,
   "metadata": {},
   "outputs": [],
   "source": [
    "vx_ref = 0.4\n",
    "X1, Y1, R1 = 1, 0.25, 0.5\n",
    "X2, Y2, R2 = 2, -0.25, 0.5\n",
    "\n",
    "anim = animgen.MobileRobot(model_name, vx_ref, X1, Y1, R1, X2, Y2, R2)\n",
    "anim.set_skip_frames(10)\n",
    "anim.generate_animation()"
   ]
  }
 ],
 "metadata": {
  "kernelspec": {
   "display_name": "Python 3",
   "language": "python",
   "name": "python3"
  },
  "language_info": {
   "codemirror_mode": {
    "name": "ipython",
    "version": 3
   },
   "file_extension": ".py",
   "mimetype": "text/x-python",
   "name": "python",
   "nbconvert_exporter": "python",
   "pygments_lexer": "ipython3",
   "version": "3.7.5"
  },
  "toc": {
   "base_numbering": 1,
   "nav_menu": {},
   "number_sections": true,
   "sideBar": true,
   "skip_h1_title": false,
   "title_cell": "Table of Contents",
   "title_sidebar": "Contents",
   "toc_cell": false,
   "toc_position": {},
   "toc_section_display": true,
   "toc_window_display": false
  }
 },
 "nbformat": 4,
 "nbformat_minor": 4
}
